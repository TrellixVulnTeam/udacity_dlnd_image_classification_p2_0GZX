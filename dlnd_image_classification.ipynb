{
 "cells": [
  {
   "cell_type": "markdown",
   "metadata": {
    "collapsed": true,
    "deletable": true,
    "editable": true
   },
   "source": [
    "# Image Classification\n",
    "In this project, you'll classify images from the [CIFAR-10 dataset](https://www.cs.toronto.edu/~kriz/cifar.html).  The dataset consists of airplanes, dogs, cats, and other objects. You'll preprocess the images, then train a convolutional neural network on all the samples. The images need to be normalized and the labels need to be one-hot encoded.  You'll get to apply what you learned and build a convolutional, max pooling, dropout, and fully connected layers.  At the end, you'll get to see your neural network's predictions on the sample images.\n",
    "## Get the Data\n",
    "Run the following cell to download the [CIFAR-10 dataset for python](https://www.cs.toronto.edu/~kriz/cifar-10-python.tar.gz)."
   ]
  },
  {
   "cell_type": "code",
   "execution_count": 1,
   "metadata": {
    "collapsed": false,
    "deletable": true,
    "editable": true
   },
   "outputs": [
    {
     "name": "stdout",
     "output_type": "stream",
     "text": [
      "All files found!\n"
     ]
    }
   ],
   "source": [
    "\"\"\"\n",
    "DON'T MODIFY ANYTHING IN THIS CELL THAT IS BELOW THIS LINE\n",
    "\"\"\"\n",
    "from urllib.request import urlretrieve\n",
    "from os.path import isfile, isdir\n",
    "from tqdm import tqdm\n",
    "import problem_unittests as tests\n",
    "import tarfile\n",
    "\n",
    "cifar10_dataset_folder_path = 'cifar-10-batches-py'\n",
    "\n",
    "class DLProgress(tqdm):\n",
    "    last_block = 0\n",
    "\n",
    "    def hook(self, block_num=1, block_size=1, total_size=None):\n",
    "        self.total = total_size\n",
    "        self.update((block_num - self.last_block) * block_size)\n",
    "        self.last_block = block_num\n",
    "\n",
    "if not isfile('cifar-10-python.tar.gz'):\n",
    "    with DLProgress(unit='B', unit_scale=True, miniters=1, desc='CIFAR-10 Dataset') as pbar:\n",
    "        urlretrieve(\n",
    "            'https://www.cs.toronto.edu/~kriz/cifar-10-python.tar.gz',\n",
    "            'cifar-10-python.tar.gz',\n",
    "            pbar.hook)\n",
    "\n",
    "if not isdir(cifar10_dataset_folder_path):\n",
    "    with tarfile.open('cifar-10-python.tar.gz') as tar:\n",
    "        tar.extractall()\n",
    "        tar.close()\n",
    "\n",
    "\n",
    "tests.test_folder_path(cifar10_dataset_folder_path)"
   ]
  },
  {
   "cell_type": "code",
   "execution_count": 2,
   "metadata": {
    "collapsed": false,
    "deletable": true,
    "editable": true
   },
   "outputs": [
    {
     "name": "stdout",
     "output_type": "stream",
     "text": [
      "3.5.2 | packaged by conda-forge | (default, Jan 19 2017, 15:28:33) \n",
      "[GCC 4.8.2 20140120 (Red Hat 4.8.2-15)]\n",
      "sys.version_info(major=3, minor=5, micro=2, releaselevel='final', serial=0)\n",
      "\n",
      "Python ver: 3\n",
      "\n",
      "Please wait a moment while I gather a list of all available modules...\n",
      "\n"
     ]
    },
    {
     "name": "stderr",
     "output_type": "stream",
     "text": [
      "/home/carnd/anaconda3/envs/dl/lib/python3.5/site-packages/IPython/kernel/__init__.py:13: ShimWarning: The `IPython.kernel` package has been deprecated. You should import from ipykernel or jupyter_client instead.\n",
      "  \"You should import from ipykernel or jupyter_client instead.\", ShimWarning)\n",
      "Using TensorFlow backend.\n",
      "/home/carnd/anaconda3/envs/dl/lib/python3.5/site-packages/matplotlib/cbook.py:136: MatplotlibDeprecationWarning: The matplotlib.delaunay module was deprecated in version 1.4. Use matplotlib.tri.Triangulation instead.\n",
      "  warnings.warn(message, mplDeprecation, stacklevel=1)\n",
      "/home/carnd/anaconda3/envs/dl/lib/python3.5/site-packages/skimage/filter/__init__.py:6: skimage_deprecation: The `skimage.filter` module has been renamed to `skimage.filters`.  This placeholder module will be removed in v0.13.\n",
      "  warn(skimage_deprecation('The `skimage.filter` module has been renamed '\n",
      "/home/carnd/anaconda3/envs/dl/lib/python3.5/pkgutil.py:86: FutureWarning: The pandas.rpy module is deprecated and will be removed in a future version. We refer to external packages like rpy2. \n",
      "See here for a guide on how to port your code to rpy2: http://pandas.pydata.org/pandas-docs/stable/r_interface.html\n",
      "  __import__(name)\n",
      "/home/carnd/anaconda3/envs/dl/lib/python3.5/site-packages/skimage/viewer/utils/core.py:10: UserWarning: Recommended matplotlib backend is `Agg` for full skimage.viewer functionality.\n",
      "  warn(\"Recommended matplotlib backend is `Agg` for full \"\n"
     ]
    },
    {
     "name": "stdout",
     "output_type": "stream",
     "text": [
      "CDROM               binascii            jinja2              select\n",
      "DLFCN               binhex              json                selectors\n",
      "IN                  bisect              jsonschema          setuptools\n",
      "IPython             bleach              jupyter             shelve\n",
      "OleFileIO_PL        builtins            jupyter_client      shlex\n",
      "OpenSSL             bz2                 jupyter_console     shutil\n",
      "PIL                 cProfile            jupyter_core        signal\n",
      "PyQt4               calendar            keras               simplegeneric\n",
      "TYPES               certifi             keyword             sip\n",
      "__future__          cffi                lib2to3             sipconfig\n",
      "_ast                cgi                 linecache           sipdistutils\n",
      "_bisect             cgitb               locale              site\n",
      "_bootlocale         chunk               logging             six\n",
      "_bz2                click               lzma                skimage\n",
      "_cffi_backend       cmath               macpath             sklearn\n",
      "_codecs             cmd                 macurl2path         smtpd\n",
      "_codecs_cn          code                mailbox             smtplib\n",
      "_codecs_hk          codecs              mailcap             sndhdr\n",
      "_codecs_iso2022     codeop              markupsafe          socket\n",
      "_codecs_jp          collections         marshal             socketio\n",
      "_codecs_kr          colorsys            math                socketserver\n",
      "_codecs_tw          compileall          matplotlib          spwd\n",
      "_collections        concurrent          mimetypes           sqlite3\n",
      "_collections_abc    configparser        mistune             sre_compile\n",
      "_compat_pickle      contextlib          mmap                sre_constants\n",
      "_compression        copy                modulefinder        sre_parse\n",
      "_crypt              copyreg             moviepy             ssl\n",
      "_csv                crypt               multiprocessing     stat\n",
      "_ctypes             cryptography        nbconvert           statistics\n",
      "_ctypes_test        csv                 nbformat            statsmodels\n",
      "_curses             ctypes              netrc               storemagic\n",
      "_curses_panel       curses              networkx            string\n",
      "_datetime           cv2                 nis                 stringprep\n",
      "_decimal            cycler              nntplib             struct\n",
      "_dummy_thread       cythonmagic         notebook            subprocess\n",
      "_elementtree        datetime            ntpath              sunau\n",
      "_functools          dateutil            nturl2path          symbol\n",
      "_hashlib            dbm                 numbers             sympyprinting\n",
      "_heapq              decimal             numpy               symtable\n",
      "_imp                decorator           olefile             sys\n",
      "_io                 difflib             opcode              sysconfig\n",
      "_json               dis                 operator            syslog\n",
      "_locale             distutils           optparse            tabnanny\n",
      "_lsprof             doctest             os                  tarfile\n",
      "_lzma               dummy_threading     ossaudiodev         telnetlib\n",
      "_markupbase         easy_install        pandas              tempfile\n",
      "_md5                email               pandocfilters       tensorflow\n",
      "_multibytecodec     encodings           parser              terminado\n",
      "_multiprocessing    engineio            pathlib             termios\n",
      "_opcode             entrypoints         patsy               testpath\n",
      "_operator           enum                pdb                 tests\n",
      "_osx_support        errno               pexpect             textwrap\n",
      "_pickle             eventlet            pickle              theano\n",
      "_posixsubprocess    external            pickleshare         this\n",
      "_pydecimal          faulthandler        pickletools         threading\n",
      "_pyio               fcntl               pip                 time\n",
      "_random             filecmp             pipes               timeit\n",
      "_sha1               fileinput           pkg_resources       tkinter\n",
      "_sha256             flask               pkgutil             token\n",
      "_sha512             flask_socketio      platform            tokenize\n",
      "_signal             fnmatch             plistlib            tornado\n",
      "_sitebuiltins       formatter           poplib              tqdm\n",
      "_socket             fractions           posix               trace\n",
      "_sqlite3            ftplib              posixpath           traceback\n",
      "_sre                functools           pprint              tracemalloc\n",
      "_ssl                gc                  problem_unittests   traitlets\n",
      "_stat               genericpath         profile             tty\n",
      "_string             getopt              prompt_toolkit      turtle\n",
      "_strptime           getpass             pstats              turtledemo\n",
      "_struct             gettext             pty                 types\n",
      "_symtable           glob                ptyprocess          typing\n",
      "_sysconfigdata      greenlet            pwd                 unicodedata\n",
      "_testbuffer         grp                 py_compile          unittest\n",
      "_testcapi           gzip                pyasn1              urllib\n",
      "_testimportmultiple h5py                pyclbr              uu\n",
      "_testmultiphase     hashlib             pycparser           uuid\n",
      "_thread             heapq               pydoc               venv\n",
      "_threading_local    helper              pydoc_data          warnings\n",
      "_tkinter            hmac                pyexpat             wave\n",
      "_tracemalloc        html                pygments            wcwidth\n",
      "_warnings           html5lib            pylab               weakref\n",
      "_weakref            http                pyparsing           webbrowser\n",
      "_weakrefset         idlelib             pytz                werkzeug\n",
      "abc                 idna                qtconsole           wheel\n",
      "aifc                imageio             queue               widgetsnbextension\n",
      "antigravity         imaplib             quopri              wsgiref\n",
      "argparse            imghdr              random              xdrlib\n",
      "array               imp                 re                  xml\n",
      "ast                 importlib           readline            xmlrpc\n",
      "asynchat            inspect             reprlib             xxlimited\n",
      "asyncio             io                  resource            xxsubtype\n",
      "asyncore            ipaddress           rlcompleter         yaml\n",
      "atexit              ipykernel           rmagic              zipapp\n",
      "audioop             ipython_genutils    runpy               zipfile\n",
      "autoreload          ipywidgets          sched               zipimport\n",
      "base64              itertools           scipy               zlib\n",
      "bdb                 itsdangerous        seaborn             zmq\n",
      "\n",
      "Enter any module name to get more help.  Or, type \"modules spam\" to search\n",
      "for modules whose name or summary contain the string \"spam\".\n",
      "\n"
     ]
    }
   ],
   "source": [
    "import sys\n",
    "print(sys.version)\n",
    "print(sys.version_info)\n",
    "print(\"\\nPython ver: {}\".format( sys.version_info[0]))\n",
    "help(\"modules\")"
   ]
  },
  {
   "cell_type": "markdown",
   "metadata": {
    "deletable": true,
    "editable": true
   },
   "source": [
    "## Explore the Data\n",
    "The dataset is broken into batches to prevent your machine from running out of memory.  The CIFAR-10 dataset consists of 5 batches, named `data_batch_1`, `data_batch_2`, etc.. Each batch contains the labels and images that are one of the following:\n",
    "* airplane\n",
    "* automobile\n",
    "* bird\n",
    "* cat\n",
    "* deer\n",
    "* dog\n",
    "* frog\n",
    "* horse\n",
    "* ship\n",
    "* truck\n",
    "\n",
    "Understanding a dataset is part of making predictions on the data.  Play around with the code cell below by changing the `batch_id` and `sample_id`. The `batch_id` is the id for a batch (1-5). \n",
    "\n",
    "* The `sample_id` is the id for an image and label pair in the batch.\n",
    "\n",
    "Ask yourself \"What are all possible labels?\", \"What is the range of values for the image data?\", \"Are the labels in order or random?\".  Answers to questions like these will help you preprocess the data and end up with better predictions."
   ]
  },
  {
   "cell_type": "code",
   "execution_count": 3,
   "metadata": {
    "collapsed": false,
    "deletable": true,
    "editable": true
   },
   "outputs": [
    {
     "name": "stdout",
     "output_type": "stream",
     "text": [
      "\n",
      "Stats of batch 3:\n",
      "Samples: 10000\n",
      "Label Counts: {0: 994, 1: 1042, 2: 965, 3: 997, 4: 990, 5: 1029, 6: 978, 7: 1015, 8: 961, 9: 1029}\n",
      "First 20 Labels: [8, 5, 0, 6, 9, 2, 8, 3, 6, 2, 7, 4, 6, 9, 0, 0, 7, 3, 7, 2]\n",
      "\n",
      "Example of Image 10:\n",
      "Image - Min Value: 42 Max Value: 255\n",
      "Image - Shape: (32, 32, 3)\n",
      "Label - Label Id: 7 Name: horse\n"
     ]
    },
    {
     "name": "stderr",
     "output_type": "stream",
     "text": [
      "/home/carnd/anaconda3/envs/dl/lib/python3.5/site-packages/matplotlib/font_manager.py:1297: UserWarning: findfont: Font family ['sans-serif'] not found. Falling back to DejaVu Sans\n",
      "  (prop.get_family(), self.defaultFamily[fontext]))\n"
     ]
    },
    {
     "data": {
      "image/png": "[encoded data removed]",
      "text/plain": [
       "<matplotlib.figure.Figure at 0x7fb404a67e80>"
      ]
     },
     "metadata": {
      "image/png": {
       "height": 248,
       "width": 251
      }
     },
     "output_type": "display_data"
    }
   ],
   "source": [
    "%matplotlib inline\n",
    "%config InlineBackend.figure_format = 'retina'\n",
    "\n",
    "import helper\n",
    "import numpy as np\n",
    "\n",
    "# Explore the dataset\n",
    "batch_id = 3 # Possible Batch Ids: [1, 2, 3, 4, 5]\n",
    "sample_id = 10 # 0 to max is 9,999\n",
    "helper.display_stats(cifar10_dataset_folder_path, batch_id, sample_id)"
   ]
  },
  {
   "cell_type": "markdown",
   "metadata": {
    "deletable": true,
    "editable": true
   },
   "source": [
    "## Implement Preprocess Functions\n",
    "### Normalize\n",
    "In the cell below, implement the `normalize` function to take in image data, `x`, and return it as a normalized Numpy array. The values should be in the range of 0 to 1, inclusive.  The return object should be the same shape as `x`."
   ]
  },
  {
   "cell_type": "markdown",
   "metadata": {
    "deletable": true,
    "editable": true
   },
   "source": [
    "#Local Normalization versus local norms \n",
    "'from feedback from review'\n",
    "\n",
    "In neurobiology, there is a concept called **lateral inhibition**. This refers to the capacity of an excited neuron to subdue its neighbors. We basically want a significant peak so that we have a form of local maxima.\n",
    "\n",
    "The normalize function normalizes image data in the range of 0 to 1, inclusive.\n",
    "\n",
    "However there were minor errors which I madein my normalisation technique.\n",
    "\n",
    "The normalisation I implemented was **local normalisation** i.e. it would normalise based on image specific maximums. The problem with this method is - for any image, say a dog against a brighter object - the normalised pixel values of the dog would be lower as compared to an image of the same dog photographed against a darker background, though essentially the pixel values of a dog have remained the same.\n",
    "\n",
    "Instead of a local normalization we will take the maximum and minimum global values, so that irrespective of image intensities, the normalised values of an object are identical across all images.\n",
    "\n",
    "\n"
   ]
  },
  {
   "cell_type": "code",
   "execution_count": 4,
   "metadata": {
    "collapsed": false,
    "deletable": true,
    "editable": true
   },
   "outputs": [
    {
     "name": "stdout",
     "output_type": "stream",
     "text": [
      "Tests Passed\n"
     ]
    }
   ],
   "source": [
    "def normalize(x):\n",
    "    \"\"\"\n",
    "    Normalize a list of sample image data in the range of 0 to 1\n",
    "    : x: List of image data.  The image shape is (32, 32, 3)\n",
    "    : return: Numpy array of normalize data\n",
    "    \"\"\"\n",
    "    # TODO: Implement Function\n",
    "    # return None\n",
    "    # x is a numpy.ndarray\n",
    "    # print(x.shape) #(499, 32, 32, 3)\n",
    "    #print(x)\n",
    "    '''\n",
    "    [[[[ 87 112 177]\n",
    "   [ 90  69 177]\n",
    "   [ 15   9  87]\n",
    "   ..., \n",
    "   [189 174 255]\n",
    "   [ 85 254 129]\n",
    "   [ 37 183 222]]\n",
    "    '''\n",
    "    # range of 0 to 1\n",
    "    a = 0\n",
    "    b = 1\n",
    "    \n",
    "    # being an image I will assume 0 to 255\n",
    "    color_scale_min = 0 # np.amin(x) \n",
    "    color_scale_max = 255 #np.amax(x) provides only the \"Local maximum\" for this image, so replaced with global maximum\n",
    "    \n",
    "    # store old shape of tensor\n",
    "    dimensions = x.shape  # <class 'tuple'>, len(x.shape) = 4 dimensions\n",
    "    \n",
    "    # reshape to a single vector array\n",
    "    image_data = x.reshape(-1, 1)\n",
    "    \n",
    "    # normalize\n",
    "    image_data = a + ( ( (image_data - color_scale_min)*(b - a) )/( color_scale_max - color_scale_min ) )\n",
    "\n",
    "    # convert back to tensor \n",
    "    x = image_data.reshape(dimensions)\n",
    "    return x\n",
    "   \n",
    "\n",
    "\"\"\"\n",
    "DON'T MODIFY ANYTHING IN THIS CELL THAT IS BELOW THIS LINE\n",
    "\"\"\"\n",
    "tests.test_normalize(normalize)"
   ]
  },
  {
   "cell_type": "markdown",
   "metadata": {
    "deletable": true,
    "editable": true
   },
   "source": [
    "### One-hot encode\n",
    "Just like the previous code cell, you'll be implementing a function for preprocessing.  This time, you'll implement the `one_hot_encode` function. The input, `x`, are a list of labels.  Implement the function to return the list of labels as One-Hot encoded Numpy array.  The possible values for labels are 0 to 9. The one-hot encoding function should return the same encoding for each value between each call to `one_hot_encode`.  Make sure to save the map of encodings outside the function.\n",
    "\n",
    "Hint: Don't reinvent the wheel."
   ]
  },
  {
   "cell_type": "code",
   "execution_count": 5,
   "metadata": {
    "collapsed": false,
    "deletable": true,
    "editable": true
   },
   "outputs": [
    {
     "name": "stdout",
     "output_type": "stream",
     "text": [
      "Tests Passed\n"
     ]
    }
   ],
   "source": [
    "#replaced with one above\n",
    "\n",
    "def one_hot_encode(x):\n",
    "    \"\"\"\n",
    "    One hot encode a list of sample labels. Return a one-hot encoded vector for each label.\n",
    "    : x: List of sample Labels\n",
    "    : return: Numpy array of one-hot encoded labels\n",
    "    \"\"\"\n",
    "    # TODO: Implement Function\n",
    "    # Please note: I was struggling with running this twice and the forum mentor (@akansha_803081651828) \n",
    "    # kindly explained I needed to fix the array size to the size of the classes (dog, cat, etc...)\n",
    "    # https://discussions.udacity.com/t/assertion-error-in-one-hot-encoding/226204/2?source_topic_id=224916\n",
    "\n",
    "    from sklearn.preprocessing import LabelBinarizer\n",
    "    lb = LabelBinarizer(neg_label=0, pos_label=1, sparse_output=False)\n",
    "    # there are 10 classes in the label feature in our array, \n",
    "    # however if we rerun this we may find that not all features are included (e.g. maybe only 4 of them, \n",
    "    # so we will get different results.\n",
    "    lb.fit(np.array([[0,0,0,0,0,0,0,0,0,0],[0,0,0,0,0,0,0,0,0,0]]))\n",
    "    return lb.transform(x)\n",
    "\n",
    "\n",
    "\"\"\"\n",
    "DON'T MODIFY ANYTHING IN THIS CELL THAT IS BELOW THIS LINE\n",
    "\"\"\"\n",
    "tests.test_one_hot_encode(one_hot_encode)"
   ]
  },
  {
   "cell_type": "markdown",
   "metadata": {
    "deletable": true,
    "editable": true
   },
   "source": [
    "### Randomize Data\n",
    "As you saw from exploring the data above, the order of the samples are randomized.  It doesn't hurt to randomize it again, but you don't need to for this dataset."
   ]
  },
  {
   "cell_type": "markdown",
   "metadata": {
    "deletable": true,
    "editable": true
   },
   "source": [
    "## Preprocess all the data and save it\n",
    "Running the code cell below will preprocess all the CIFAR-10 data and save it to file. The code below also uses 10% of the training data for validation."
   ]
  },
  {
   "cell_type": "code",
   "execution_count": 6,
   "metadata": {
    "collapsed": false,
    "deletable": true,
    "editable": true
   },
   "outputs": [],
   "source": [
    "\"\"\"\n",
    "DON'T MODIFY ANYTHING IN THIS CELL\n",
    "\"\"\"\n",
    "# Preprocess Training, Validation, and Testing Data\n",
    "helper.preprocess_and_save_data(cifar10_dataset_folder_path, normalize, one_hot_encode)"
   ]
  },
  {
   "cell_type": "markdown",
   "metadata": {
    "deletable": true,
    "editable": true
   },
   "source": [
    "# Check Point\n",
    "This is your first checkpoint.  If you ever decide to come back to this notebook or have to restart the notebook, you can start from here.  The preprocessed data has been saved to disk."
   ]
  },
  {
   "cell_type": "code",
   "execution_count": 7,
   "metadata": {
    "collapsed": false,
    "deletable": true,
    "editable": true
   },
   "outputs": [],
   "source": [
    "\"\"\"\n",
    "DON'T MODIFY ANYTHING IN THIS CELL\n",
    "\"\"\"\n",
    "import pickle\n",
    "import problem_unittests as tests\n",
    "import helper\n",
    "\n",
    "# Load the Preprocessed Validation data\n",
    "valid_features, valid_labels = pickle.load(open('preprocess_validation.p', mode='rb'))"
   ]
  },
  {
   "cell_type": "markdown",
   "metadata": {
    "deletable": true,
    "editable": true
   },
   "source": [
    "## Build the network\n",
    "For the neural network, you'll build each layer into a function.  Most of the code you've seen has been outside of functions. To test your code more thoroughly, we require that you put each layer in a function.  This allows us to give you better feedback and test for simple mistakes using our unittests before you submit your project.\n",
    "\n",
    ">**Note:** If you're finding it hard to dedicate enough time for this course each week, we've provided a small shortcut to this part of the project. In the next couple of problems, you'll have the option to use classes from the [TensorFlow Layers](https://www.tensorflow.org/api_docs/python/tf/layers) or [TensorFlow Layers (contrib)](https://www.tensorflow.org/api_guides/python/contrib.layers) packages to build each layer, except the layers you build in the \"Convolutional and Max Pooling Layer\" section.  TF Layers is similar to Keras's and TFLearn's abstraction to layers, so it's easy to pickup.\n",
    "\n",
    ">However, if you would like to get the most out of this course, try to solve all the problems _without_ using anything from the TF Layers packages. You **can** still use classes from other packages that happen to have the same name as ones you find in TF Layers! For example, instead of using the TF Layers version of the `conv2d` class, [tf.layers.conv2d](https://www.tensorflow.org/api_docs/python/tf/layers/conv2d), you would want to use the TF Neural Network version of `conv2d`, [tf.nn.conv2d](https://www.tensorflow.org/api_docs/python/tf/nn/conv2d). \n",
    "\n",
    "Let's begin!\n",
    "\n",
    "### Input\n",
    "The neural network needs to read the image data, one-hot encoded labels, and dropout keep probability. Implement the following functions\n",
    "* Implement `neural_net_image_input`\n",
    " * Return a [TF Placeholder](https://www.tensorflow.org/api_docs/python/tf/placeholder)\n",
    " * Set the shape using `image_shape` with batch size set to `None`.\n",
    " * Name the TensorFlow placeholder \"x\" using the TensorFlow `name` parameter in the [TF Placeholder](https://www.tensorflow.org/api_docs/python/tf/placeholder).\n",
    "* Implement `neural_net_label_input`\n",
    " * Return a [TF Placeholder](https://www.tensorflow.org/api_docs/python/tf/placeholder)\n",
    " * Set the shape using `n_classes` with batch size set to `None`.\n",
    " * Name the TensorFlow placeholder \"y\" using the TensorFlow `name` parameter in the [TF Placeholder](https://www.tensorflow.org/api_docs/python/tf/placeholder).\n",
    "* Implement `neural_net_keep_prob_input`\n",
    " * Return a [TF Placeholder](https://www.tensorflow.org/api_docs/python/tf/placeholder) for dropout keep probability.\n",
    " * Name the TensorFlow placeholder \"keep_prob\" using the TensorFlow `name` parameter in the [TF Placeholder](https://www.tensorflow.org/api_docs/python/tf/placeholder).\n",
    "\n",
    "These names will be used at the end of the project to load your saved model.\n",
    "\n",
    "Note: `None` for shapes in TensorFlow allow for a dynamic size."
   ]
  },
  {
   "cell_type": "code",
   "execution_count": 8,
   "metadata": {
    "collapsed": false,
    "deletable": true,
    "editable": true
   },
   "outputs": [
    {
     "name": "stdout",
     "output_type": "stream",
     "text": [
      "Image Input Tests Passed.\n",
      "Label Input Tests Passed.\n",
      "Keep Prob Tests Passed.\n"
     ]
    }
   ],
   "source": [
    "import tensorflow as tf\n",
    "\n",
    "def neural_net_image_input(image_shape):\n",
    "    \"\"\"\n",
    "    Return a Tensor for a bach of image input\n",
    "    : image_shape: Shape of the images\n",
    "    : return: Tensor for image input.\n",
    "    \"\"\"\n",
    "    # TODO: Implement Function\n",
    "\n",
    "    # 1. Return a TF Placeholder\n",
    "    # 2. Set the shape using image_shape with batch size set to \"None\".\n",
    "    # 3. Name the TensorFlow placeholder \"x\" using the TensorFlow name parameter in the TF Placeholder.\n",
    "    # https://www.tensorflow.org/api_docs/python/tf/placeholder\n",
    "    # print(image_shape) # (32, 32, 3)\n",
    "    # print ([None] + list(image_shape)) # we want [None, 32, 32, 3] same as \"shape=[batch_size, *image_shape]\"\n",
    "    # print(*image_shape) # unpack the tuple with the * pointer object\n",
    "    \n",
    "    # ref: http://stackoverflow.com/questions/41783136/tensorflow-batch-size-in-input-placholder\n",
    "    batch_size = None # None means you can run the model with a variable number of inputs (one or more). \n",
    "    shaped = [batch_size] + list(image_shape)  # shaped is a type <list>\n",
    "\n",
    "    # print(\"shaped {}\".format(shaped))  # shaped [None, 32, 32, 3]\n",
    "    #print(type(shaped))\n",
    "    \n",
    "    # return tf.placeholder(tf.float32, shape=[batch_size, *image_shape], name = \"x\")\n",
    "    return tf.placeholder(tf.float32, shape=shaped, name = \"x\")\n",
    "\n",
    "\n",
    "def neural_net_label_input(n_classes):\n",
    "    \"\"\"\n",
    "    Return a Tensor for a batch of label input\n",
    "    : n_classes: Number of classes\n",
    "    : return: Tensor for label input.\n",
    "    \"\"\"\n",
    "    # TODO: Implement Function\n",
    "    # Return a TF Placeholder\n",
    "    # Set the shape using n_classes with batch size set to None.\n",
    "    # Name the TensorFlow placeholder \"y\" using the TensorFlow name parameter in the TF Placeholder.\n",
    "    # print (type(n_classes)) # int of value 10\n",
    "    batch_size = None # None means you can run the model with a variable number of inputs (one or more). \n",
    "    shaped = [batch_size] + [n_classes]\n",
    "\n",
    "    # print(\"shaped {}\".format(shaped)) # [None, 10]\n",
    "    \n",
    "    return tf.placeholder(tf.float32, shape=shaped, name = \"y\")\n",
    "\n",
    "\n",
    "\n",
    "def neural_net_keep_prob_input():\n",
    "    \"\"\"\n",
    "    Return a Tensor for keep probability\n",
    "    : return: Tensor for keep probability.\n",
    "    \"\"\"\n",
    "    # TODO: Implement Function\n",
    "    # Return a TF Placeholder for dropout keep probability.\n",
    "    # Name the TensorFlow placeholder \"keep_prob\" using the TensorFlow name parameter in the TF Placeholder.\n",
    "    return tf.placeholder(tf.float32, name = \"keep_prob\")\n",
    "\n",
    "\n",
    "\"\"\"\n",
    "DON'T MODIFY ANYTHING IN THIS CELL THAT IS BELOW THIS LINE\n",
    "\"\"\"\n",
    "tf.reset_default_graph()\n",
    "tests.test_nn_image_inputs(neural_net_image_input)\n",
    "tests.test_nn_label_inputs(neural_net_label_input)\n",
    "tests.test_nn_keep_prob_inputs(neural_net_keep_prob_input)"
   ]
  },
  {
   "cell_type": "markdown",
   "metadata": {
    "deletable": true,
    "editable": true
   },
   "source": [
    "### Convolution and Max Pooling Layer\n",
    "Convolution layers have a lot of success with images. For this code cell, you should implement the function `conv2d_maxpool` to apply convolution then max pooling:\n",
    "* Create the weight and bias using `conv_ksize`, `conv_num_outputs` and the shape of `x_tensor`.\n",
    "* Apply a convolution to `x_tensor` using weight and `conv_strides`.\n",
    " * We recommend you use same padding, but you're welcome to use any padding.\n",
    "* Add bias\n",
    "* Add a nonlinear activation to the convolution.\n",
    "* Apply Max Pooling using `pool_ksize` and `pool_strides`.\n",
    " * We recommend you use same padding, but you're welcome to use any padding.\n",
    "\n",
    "**Note:** You **can't** use [TensorFlow Layers](https://www.tensorflow.org/api_docs/python/tf/layers) or [TensorFlow Layers (contrib)](https://www.tensorflow.org/api_guides/python/contrib.layers) for **this** layer, but you can still use TensorFlow's [Neural Network](https://www.tensorflow.org/api_docs/python/tf/nn) package. You may still use the shortcut option for all the **other** layers."
   ]
  },
  {
   "cell_type": "code",
   "execution_count": 9,
   "metadata": {
    "collapsed": false,
    "deletable": true,
    "editable": true
   },
   "outputs": [],
   "source": [
    "#ref to following article from https://github.com/tensorflow/tensorflow/issues/1122\n",
    "#ref: http://stackoverflow.com/questions/33949786/how-could-i-use-batch-normalization-in-tensorflow?answertab=votes#tab-top\n",
    "#import numpy as np\n",
    "#import tensorflow as tf\n",
    "#from tensorflow.python \n",
    "#import control_flow_ops\n",
    "\n",
    "def batch_norm(x, n_out, phase_train, scope='bn'):\n",
    "    \"\"\"\n",
    "    Batch normalization on convolutional maps.\n",
    "    Args:\n",
    "        x:           Tensor, 4D BHWD input maps\n",
    "        n_out:       integer, depth of input maps\n",
    "        phase_train: boolean tf.Varialbe, true indicates training phase\n",
    "        scope:       string, variable scope\n",
    "    Return:\n",
    "        normed:      batch-normalized maps\n",
    "    \"\"\"\n",
    "    with tf.variable_scope(scope):\n",
    "        beta = tf.Variable(tf.constant(0.0, shape=[n_out]),\n",
    "                                     name='beta', trainable=True)\n",
    "        gamma = tf.Variable(tf.constant(1.0, shape=[n_out]),\n",
    "                                      name='gamma', trainable=True)\n",
    "        batch_mean, batch_var = tf.nn.moments(x, [0,1,2], name='moments')\n",
    "        ema = tf.train.ExponentialMovingAverage(decay=0.5)\n",
    "\n",
    "        def mean_var_with_update():\n",
    "            ema_apply_op = ema.apply([batch_mean, batch_var])\n",
    "            with tf.control_dependencies([ema_apply_op]):\n",
    "                return tf.identity(batch_mean), tf.identity(batch_var)\n",
    "\n",
    "        mean, var = tf.cond(phase_train,\n",
    "                            mean_var_with_update,\n",
    "                            lambda: (ema.average(batch_mean), ema.average(batch_var)))\n",
    "        normed = tf.nn.batch_normalization(x, mean, var, beta, gamma, 1e-3)\n",
    "    return normed"
   ]
  },
  {
   "cell_type": "code",
   "execution_count": 10,
   "metadata": {
    "collapsed": false,
    "deletable": true,
    "editable": true
   },
   "outputs": [
    {
     "name": "stdout",
     "output_type": "stream",
     "text": [
      "Tests Passed\n"
     ]
    }
   ],
   "source": [
    "def conv2d_maxpool(x_tensor, conv_num_outputs, conv_ksize, conv_strides, pool_ksize, pool_strides):\n",
    "    \"\"\"\n",
    "    Apply convolution then max pooling to x_tensor\n",
    "    :param x_tensor: TensorFlow Tensor\n",
    "    :param conv_num_outputs: Number of outputs for the convolutional layer\n",
    "    :param conv_ksize: kernal size 2-D Tuple for the convolutional layer\n",
    "    :param conv_strides: Stride 2-D Tuple for convolution\n",
    "    :param pool_ksize: kernal size 2-D Tuple for pool\n",
    "    :param pool_strides: Stride 2-D Tuple for pool\n",
    "    : return: A tensor that represents convolution and max pooling of x_tensor\n",
    "    \"\"\"\n",
    "    # TODO: Implement Function\n",
    "    # The classification of a given patch in an image is determined by the weights \n",
    "    # and biases corresponding to that patch.\n",
    "    # lesson Convolutional networks/Parameters\n",
    "\n",
    "    # the dimensions are (W−F+2P)/S+1\n",
    "    #image_width = x_tensor.get_shape()[2].value\n",
    "    #image_height = x_tensor.get_shape()[3].value\n",
    "\n",
    "    #padding = 1 #Valid or same, https://www.tensorflow.org/api_guides/python/nn#Convolution\n",
    "    #strides = pool_strides[0] \n",
    "\n",
    "    #((Image.width - Filter.width + 2 * Padding)/ Stride) +1\n",
    "    #new_width = ((image_width - filter_width + (2 * padding)) / (strides )) + 1.0\n",
    "    #print(new_width)      \n",
    "    \n",
    "    # Lesson Convolutional networks/Quiz: Convolutional Output Shape\n",
    "    # https://classroom.udacity.com/nanodegrees/nd101/parts/2a9dba0b-28eb-4b0e-acfa-bdcf35680d90/modules/ca299d5f-35f6-4520-a2b0-74c6878008b3/lessons/2fd24529-215c-47b5-a644-2c23650493f6/concepts/d0db3cab-ad70-46ec-9614-4dfc27dfc865\n",
    "    \n",
    "    \n",
    "    \n",
    "    # 1. Create the weight and bias using conv_ksize, conv_num_outputs and the shape of x_tensor.\n",
    "    channels = x_tensor.get_shape()[3].value # RGB, the depth from the number of filters Y\n",
    "\n",
    "    filter_width = conv_ksize[0] # kernal size 2-D Tuple for the convolutional layer\n",
    "    filter_height = conv_ksize[1]\n",
    "    \n",
    "    '''experiment from http://cs231n.stanford.edu/slides/winter1516_lecture5.pdf slide 56'''\n",
    "\n",
    "    # The shape of the filter weight is (height, width, input_depth, output_depth)\n",
    "    filter_dimensions = tf.truncated_normal([filter_width, filter_height, channels, conv_num_outputs], stddev=0.01)\n",
    "    filter_weights = tf.Variable(filter_dimensions, name=\"W\")\n",
    "    \n",
    "    # The shape of the filter bias is (output_depth,)\n",
    "    #in Tensor Board minst Dandellion Mané replaced with filter_bias = tf.Variable(tf.constant(0.1, shape=[size_out]), name=\"B\")\n",
    "    filter_bias = tf.Variable(tf.constant(0.1, shape=[conv_num_outputs]), name=\"B\")\n",
    "    \n",
    "    # Set the stride for each dimension (batch_size, height, width, depth)\n",
    "    strides = [1, conv_strides[0], conv_strides[1], 1] # (batch, height, width, depth)\n",
    "    \n",
    "    # TODO: set the padding, either 'VALID' or 'SAME'.\n",
    "    padding='SAME' # 'VALID' is not recommended for this project\n",
    "    \n",
    "    # To make life easier, the code is using tf.nn.bias_add() to add the bias. \n",
    "    # Using tf.add() doesn't work when the tensors aren't the same shape.\n",
    "    conv = tf.nn.bias_add(tf.nn.conv2d(x_tensor, filter_weights, strides, padding), filter_bias)\n",
    "    \n",
    "    \n",
    "    '''Experiment from pro Tip from reviewer - adding batch normalzation after conv and before maxpool'''\n",
    "    '''https://www.tensorflow.org/api_docs/python/tf/nn/batch_normalization'''\n",
    "    ''' tf.nn.batch_normalization(x, mean, variance, offset, scale, variance_epsilon, name=None)  '''\n",
    "    '''before or after ReLU :)   ducha-aiki/caffenet-benchmark  says before ReLU'''\n",
    "\n",
    "    #phase_train = tf.placeholder(tf.bool, name='phase_train')\n",
    "    \n",
    "    # normally the TensorFlow Session would be passed a dictionary but this is something not editable \n",
    "    # in this notebook so I will set perminantly to True using the tf.bool object\n",
    "    computed_val = tf.constant(10.0)\n",
    "    constant_val = tf.constant(37.0)\n",
    "    phase_train = tf.less(computed_val, constant_val)\n",
    "    \n",
    "    conv_bn = batch_norm(conv, conv_num_outputs, phase_train)\n",
    "    \n",
    "    \n",
    "    \n",
    "    #conv_bn = conv\n",
    "    '''end experiment'''\n",
    "    \n",
    "    \n",
    "    \n",
    "    # RELU layer will apply an elementwise activation function,\n",
    "    #relu_layer = tf.nn.relu(conv)\n",
    "    relu_layer = tf.nn.relu(conv_bn)\n",
    "    \n",
    "    # strides=[1, 2, 2, 1] - [batch, height, width, channels]). \n",
    "    # For both ksize and strides, the batch and channel dimensions are typically set to 1.\n",
    "    new_strides = [1, pool_ksize[0], pool_ksize[1], 1]   \n",
    "    \n",
    "    # performs max pooling with the ksize parameter as the size of the filter.\n",
    "    max_pool = tf.nn.max_pool(relu_layer, ksize=new_strides, strides=new_strides, padding=padding)\n",
    "    \n",
    "    \n",
    "    #  A tensor that represents convolution and max pooling of x_tensor\n",
    "    return max_pool\n",
    "\n",
    "\n",
    "\"\"\"\n",
    "DON'T MODIFY ANYTHING IN THIS CELL THAT IS BELOW THIS LINE\n",
    "\"\"\"\n",
    "tests.test_con_pool(conv2d_maxpool)"
   ]
  },
  {
   "cell_type": "markdown",
   "metadata": {
    "deletable": true,
    "editable": true
   },
   "source": [
    "### Flatten Layer\n",
    "Implement the `flatten` function to change the dimension of `x_tensor` from a 4-D tensor to a 2-D tensor.  The output should be the shape (*Batch Size*, *Flattened Image Size*). Shortcut option: you can use classes from the [TensorFlow Layers](https://www.tensorflow.org/api_docs/python/tf/layers) or [TensorFlow Layers (contrib)](https://www.tensorflow.org/api_guides/python/contrib.layers) packages for this layer. For more of a challenge, only use other TensorFlow packages."
   ]
  },
  {
   "cell_type": "code",
   "execution_count": 11,
   "metadata": {
    "collapsed": false,
    "deletable": true,
    "editable": true
   },
   "outputs": [
    {
     "name": "stdout",
     "output_type": "stream",
     "text": [
      "Tests Passed\n"
     ]
    }
   ],
   "source": [
    "def flatten(x_tensor):\n",
    "    \"\"\"\n",
    "    Flatten x_tensor to (Batch Size, Flattened Image Size)\n",
    "    : x_tensor: A tensor of size (Batch Size, ...), where ... are the image dimensions.\n",
    "    : return: A tensor of size (Batch Size, Flattened Image Size).\n",
    "    \"\"\"\n",
    "    # TODO: Implement Function\n",
    "    batch_size = x_tensor.get_shape()[0]\n",
    "\n",
    "    if batch_size.value == None:\n",
    "        batch_size = -1\n",
    "    else:\n",
    "        batch_size = x_tensor.get_shape()[0].value\n",
    "        \n",
    "    width = x_tensor.get_shape()[1].value\n",
    "    height = x_tensor.get_shape()[2].value\n",
    "    channels = x_tensor.get_shape()[3].value\n",
    "    \n",
    "    image_dimensions = width * height * channels\n",
    "    \n",
    "    x2D_tensor = tf.reshape(x_tensor, [batch_size, image_dimensions])\n",
    "\n",
    "    return x2D_tensor\n",
    "\n",
    "\n",
    "\"\"\"\n",
    "DON'T MODIFY ANYTHING IN THIS CELL THAT IS BELOW THIS LINE\n",
    "\"\"\"\n",
    "tests.test_flatten(flatten)"
   ]
  },
  {
   "cell_type": "markdown",
   "metadata": {
    "deletable": true,
    "editable": true
   },
   "source": [
    "### Fully-Connected Layer\n",
    "Implement the `fully_conn` function to apply a fully connected layer to `x_tensor` with the shape (*Batch Size*, *num_outputs*). Shortcut option: you can use classes from the [TensorFlow Layers](https://www.tensorflow.org/api_docs/python/tf/layers) or [TensorFlow Layers (contrib)](https://www.tensorflow.org/api_guides/python/contrib.layers) packages for this layer. For more of a challenge, only use other TensorFlow packages."
   ]
  },
  {
   "cell_type": "code",
   "execution_count": 12,
   "metadata": {
    "collapsed": false,
    "deletable": true,
    "editable": true
   },
   "outputs": [
    {
     "name": "stdout",
     "output_type": "stream",
     "text": [
      "Tests Passed\n"
     ]
    }
   ],
   "source": [
    "def fully_conn(x_tensor, num_outputs):\n",
    "    \"\"\"\n",
    "    Apply a fully connected layer to x_tensor using weight and bias\n",
    "    : x_tensor: A 2-D tensor where the first dimension is batch size.\n",
    "    : num_outputs: The number of output that the new tensor should be.\n",
    "    : return: A 2-D tensor where the second dimension is num_outputs.\n",
    "    \"\"\"\n",
    "    # TODO: Implement Function\n",
    "    # ref lesson \"convolutional networks / Tensorflow Convolutional Layer\"\n",
    "    filter_flattend_size = x_tensor.get_shape()[1].value\n",
    "    \n",
    "    #weight and bias - Use Dandelion Mané's way to do it from Tensor board video\n",
    "    #fully_conn_weights = tf.Variable(tf.truncated_normal([filter_flattend_size, num_outputs])) #, mean=0.0, stddev=0.01 ))\n",
    "    fully_conn_weights = tf.Variable(tf.truncated_normal([filter_flattend_size, num_outputs], mean=0.0, stddev=0.01 ), name=\"W\")\n",
    "\n",
    "    #fully_conn_bias = tf.Variable(tf.zeros([num_outputs]), name=\"B\")\n",
    "    fully_conn_bias = tf.Variable(tf.constant(0.1, shape=[num_outputs]), name=\"B\")\n",
    "        \n",
    "        \n",
    "    fully_conn_output = tf.matmul(x_tensor, fully_conn_weights) \n",
    "    \n",
    "    # To make life easier, the code is using tf.nn.bias_add() to add the bias. \n",
    "    # Using tf.add() doesn't work when the tensors aren't the same shape.\n",
    "    fully_conn_output_with_bias = tf.nn.bias_add(fully_conn_output, fully_conn_bias)\n",
    "    fully_relu_output = tf.nn.relu(fully_conn_output_with_bias)\n",
    "    \n",
    "    #A 2-D tensor where the second dimension is num_outputs.\n",
    "    #print(fully_relu_output)\n",
    "    return fully_relu_output\n",
    "\n",
    "\n",
    "\"\"\"\n",
    "DON'T MODIFY ANYTHING IN THIS CELL THAT IS BELOW THIS LINE\n",
    "\"\"\"\n",
    "tests.test_fully_conn(fully_conn)"
   ]
  },
  {
   "cell_type": "markdown",
   "metadata": {
    "deletable": true,
    "editable": true
   },
   "source": [
    "### Output Layer\n",
    "Implement the `output` function to apply a fully connected layer to `x_tensor` with the shape (*Batch Size*, *num_outputs*). Shortcut option: you can use classes from the [TensorFlow Layers](https://www.tensorflow.org/api_docs/python/tf/layers) or [TensorFlow Layers (contrib)](https://www.tensorflow.org/api_guides/python/contrib.layers) packages for this layer. For more of a challenge, only use other TensorFlow packages.\n",
    "\n",
    "**Note:** Activation, softmax, or cross entropy should **not** be applied to this."
   ]
  },
  {
   "cell_type": "code",
   "execution_count": 13,
   "metadata": {
    "collapsed": false,
    "deletable": true,
    "editable": true
   },
   "outputs": [
    {
     "name": "stdout",
     "output_type": "stream",
     "text": [
      "Tests Passed\n"
     ]
    }
   ],
   "source": [
    "def output(x_tensor, num_outputs):\n",
    "    \"\"\"\n",
    "    Apply a output layer to x_tensor using weight and bias\n",
    "    : x_tensor: A 2-D tensor where the first dimension is batch size.\n",
    "    : num_outputs: The number of output that the new tensor should be.\n",
    "    : return: A 2-D tensor where the second dimension is num_outputs.\n",
    "    \"\"\"\n",
    "    # TODO: Implement Function\n",
    "    #print(\"x_tensor:{}\".format(x_tensor.get_shape()[1])) #(?, 128) so we only need second value\n",
    "    #print(\"num_outputs:{}\".format(num_outputs)) # 40 is the new dimension\n",
    "    \n",
    "    # get the dimensions for weights [128, 40]\n",
    "    weight_dimensions = tf.truncated_normal([int(x_tensor.get_shape()[1]), num_outputs])\n",
    "\n",
    "    # weights place holder initialised\n",
    "    weights = tf.Variable(weight_dimensions , name =\"W\")\n",
    "    \n",
    "    # bias place holder initialised    \n",
    "    bias = tf.Variable(tf.truncated_normal([num_outputs]) , name =\"B\")    \n",
    "    \n",
    "    # To make life easier, the code is using tf.nn.bias_add() to add the bias. \n",
    "    # Using tf.add() doesn't work when the tensors aren't the same shape.\n",
    "    \n",
    "    # ref: Lesson Convolutional networks/Convolutional Network in TensorFlow\n",
    "    # where fc1 is the fully connected layer preceeding this\n",
    "    # out = tf.add(tf.matmul(fc1, weights['out']), biases['out'])\n",
    "    op_output = tf.nn.bias_add(tf.matmul(x_tensor, weights), bias)\n",
    "    \n",
    "    return op_output\n",
    "\n",
    "\n",
    "\n",
    "\"\"\"\n",
    "DON'T MODIFY ANYTHING IN THIS CELL THAT IS BELOW THIS LINE\n",
    "\"\"\"\n",
    "tests.test_output(output)"
   ]
  },
  {
   "cell_type": "markdown",
   "metadata": {
    "deletable": true,
    "editable": true
   },
   "source": [
    "### Create Convolutional Model\n",
    "Implement the function `conv_net` to create a convolutional neural network model. The function takes in a batch of images, `x`, and outputs logits.  Use the layers you created above to create this model:\n",
    "\n",
    "* Apply 1, 2, or 3 Convolution and Max Pool layers\n",
    "* Apply a Flatten Layer\n",
    "* Apply 1, 2, or 3 Fully Connected Layers\n",
    "* Apply an Output Layer\n",
    "* Return the output\n",
    "* Apply [TensorFlow's Dropout](https://www.tensorflow.org/api_docs/python/tf/nn/dropout) to one or more layers in the model using `keep_prob`. "
   ]
  },
  {
   "cell_type": "code",
   "execution_count": 14,
   "metadata": {
    "collapsed": false,
    "deletable": true,
    "editable": true
   },
   "outputs": [
    {
     "name": "stdout",
     "output_type": "stream",
     "text": [
      "Neural Network Built!\n"
     ]
    }
   ],
   "source": [
    "def conv_net(x, keep_prob):\n",
    "    \"\"\"\n",
    "    Create a convolutional neural network model\n",
    "    : x: Placeholder tensor that holds image data.\n",
    "    : keep_prob: Placeholder tensor that hold dropout keep probability.\n",
    "    : return: Tensor that represents logits\n",
    "    \"\"\"\n",
    "    # TODO: Apply 1, 2, or 3 Convolution and Max Pool layers\n",
    "    #    Play around with different number of outputs, kernel size and stride\n",
    "    # Function Definition from Above:\n",
    "    #    conv2d_maxpool(x_tensor, conv_num_outputs, conv_ksize, conv_strides, pool_ksize, pool_strides)\n",
    "\n",
    "    # I think ksize should be bigger than the pool size\n",
    "    conv_ksize = (4,4) #(3,3)\n",
    "    conv_strides = (1,1)\n",
    "    pool_ksize = (3,3)\n",
    "    pool_strides = (1,1)\n",
    "\n",
    "\n",
    "    # PROBLEM....!!!!!!!!\n",
    "    # With the Print_stat we blow up if layer1 > 80 and layer2 > 96  (disable printstat and we are fine :) \n",
    "    # might be because my implementation of conv_net is not efficient? So add a new conv layer\n",
    "    \n",
    "    # Layer 1 - 32*32*3 to 8*8*32\n",
    "    conv_num_outputs = 32#80 #64#80 #80 #1024 #128 #32\n",
    "    conv1 = conv2d_maxpool(x, conv_num_outputs, conv_ksize, conv_strides, pool_ksize, pool_strides)\n",
    "    \n",
    "    # Layer 2 - 8*8*32 to 2*2*64\n",
    "    conv_num_outputs = 96#96 #70 #192 #96 #64\n",
    "    conv2 = conv2d_maxpool(conv1, conv_num_outputs, conv_ksize, conv_strides, pool_ksize, pool_strides)\n",
    "\n",
    "    # Layer 3 - \n",
    "    conv_num_outputs = 288#128#50 #96 #64\n",
    "    conv3 = conv2d_maxpool(conv2, conv_num_outputs, conv_ksize, conv_strides, pool_ksize, pool_strides)\n",
    "    \n",
    "    # We want to feed all of the nodes from the last conv layer into the first fully connected layer, \n",
    "    # but the shapes are too complicated. Flattening the layer is simply to change its shape so it \n",
    "    # is easier to work with\n",
    "      \n",
    "    # Fully connected layer - 2*2*64 to ?\n",
    "    flatten_layer = flatten(conv3)\n",
    "\n",
    "    flatten_layer =  tf.nn.dropout(flatten_layer, keep_prob) #<---- dropout\n",
    "\n",
    "    \n",
    "    # TODO: Apply 1, 2, or 3 Fully Connected Layers\n",
    "    #    Play around with different number of outputs\n",
    "    # Function Definition from Above:\n",
    "    #   fully_conn(x_tensor, num_outputs)\n",
    "    '''\n",
    "    Fully connected layer to x_tensor using weight and bias\n",
    "    : x_tensor: A 2-D tensor where the first dimension is batch size.\n",
    "    : num_outputs: The number of output that the new tensor should be.\n",
    "    : return: A 2-D tensor where the second dimension is num_outputs.\n",
    "    '''\n",
    "\n",
    "    num_outputs = 512\n",
    "    fc1 = fully_conn(flatten_layer, num_outputs)\n",
    "    #fc1 = tf.nn.dropout(fc1, keep_prob)  #<---- dropout\n",
    "    num_outputs = 256\n",
    "    fc2 = fully_conn(fc1, num_outputs)\n",
    "        \n",
    "    #fc2 = tf.nn.dropout(fc2, keep_prob)  #<---- dropout\n",
    "    num_outputs = 128\n",
    "    fc3 = fully_conn(fc2, num_outputs)\n",
    "    \n",
    "    # TODO: Apply an Output Layer\n",
    "    #    Set this to the number of classes\n",
    "    # Function Definition from Above:\n",
    "    #   output(x_tensor, num_outputs)\n",
    "    \n",
    "    num_outputs = 10 # to match the different image types we have....no more no less :)\n",
    "    out = output(fc3, num_outputs)\n",
    "    \n",
    "    # TODO: return output\n",
    "    return out\n",
    "\"\"\"\n",
    "DON'T MODIFY ANYTHING IN THIS CELL THAT IS BELOW THIS LINE\n",
    "\"\"\"\n",
    "##############################\n",
    "## Build the Neural Network ##\n",
    "##############################\n",
    "# Remove previous weights, bias, inputs, etc..\n",
    "tf.reset_default_graph()\n",
    "# Inputs\n",
    "x = neural_net_image_input((32, 32, 3))\n",
    "y = neural_net_label_input(10)\n",
    "keep_prob = neural_net_keep_prob_input()\n",
    "# Model\n",
    "logits = conv_net(x, keep_prob)\n",
    "# Name logits Tensor, so that is can be loaded from disk after training\n",
    "logits = tf.identity(logits, name='logits')\n",
    "# Loss and Optimizer\n",
    "cost = tf.reduce_mean(tf.nn.softmax_cross_entropy_with_logits(logits=logits, labels=y))\n",
    "optimizer = tf.train.AdamOptimizer().minimize(cost)\n",
    "# Accuracy\n",
    "correct_pred = tf.equal(tf.argmax(logits, 1), tf.argmax(y, 1))\n",
    "accuracy = tf.reduce_mean(tf.cast(correct_pred, tf.float32), name='accuracy')\n",
    "tests.test_conv_net(conv_net)\n"
   ]
  },
  {
   "cell_type": "markdown",
   "metadata": {
    "deletable": true,
    "editable": true
   },
   "source": [
    "## Train the Neural Network\n",
    "### Single Optimization\n",
    "Implement the function `train_neural_network` to do a single optimization.  The optimization should use `optimizer` to optimize in `session` with a `feed_dict` of the following:\n",
    "* `x` for image input\n",
    "* `y` for labels\n",
    "* `keep_prob` for keep probability for dropout\n",
    "\n",
    "This function will be called for each batch, so `tf.global_variables_initializer()` has already been called.\n",
    "\n",
    "Note: Nothing needs to be returned. This function is only optimizing the neural network."
   ]
  },
  {
   "cell_type": "code",
   "execution_count": 15,
   "metadata": {
    "collapsed": false,
    "deletable": true,
    "editable": true
   },
   "outputs": [
    {
     "name": "stdout",
     "output_type": "stream",
     "text": [
      "Tests Passed\n"
     ]
    }
   ],
   "source": [
    "def train_neural_network(session, optimizer, keep_probability, feature_batch, label_batch):\n",
    "    \"\"\"\n",
    "    Optimize the session on a batch of images and labels\n",
    "    : session: Current TensorFlow session\n",
    "    : optimizer: TensorFlow optimizer function\n",
    "    : keep_probability: keep probability\n",
    "    : feature_batch: Batch of Numpy image data\n",
    "    : label_batch: Batch of Numpy label data\n",
    "    \"\"\"\n",
    "    # TODO: Implement Function\n",
    "    \n",
    "    #The train_neual_network should only have one session.run call , on the optimizer, see Lesson CNN/CNN in TensorFlow\n",
    "\n",
    "    #and make sure the keep_probablity is passed in your cost and accuracy functions (in your print stats function)\n",
    "    session.run(optimizer, feed_dict={\n",
    "               x: feature_batch,\n",
    "               y: label_batch,\n",
    "               keep_prob: keep_probability})\n",
    "    \n",
    "    pass\n",
    "\n",
    "\n",
    "\"\"\"\n",
    "DON'T MODIFY ANYTHING IN THIS CELL THAT IS BELOW THIS LINE\n",
    "\"\"\"\n",
    "tests.test_train_nn(train_neural_network)"
   ]
  },
  {
   "cell_type": "markdown",
   "metadata": {
    "deletable": true,
    "editable": true
   },
   "source": [
    "### Show Stats\n",
    "Implement the function `print_stats` to print loss and validation accuracy.  Use the global variables `valid_features` and `valid_labels` to calculate validation accuracy.  Use a **keep probability of `1.0`** to calculate the loss and validation accuracy."
   ]
  },
  {
   "cell_type": "markdown",
   "metadata": {
    "deletable": true,
    "editable": true
   },
   "source": [
    "# Feedback from review\n",
    "Thank you for your help :) This is my second attempt, I did not implement the **Print_stats** finction correctly.\n",
    "\n",
    "### The print_stats function prints loss and validation accuracy.\n",
    "Per the instructions, instead of printing the accuracy and loss on the training set you need to print the accuracy on the validation set.\n",
    "\n",
    "In **valid_acc variable** use the global variables **valid_features** and **valid_labels** instead of **feature_batch** and **label_batch**.\n",
    "\n",
    "Then retrain the network and resubmit."
   ]
  },
  {
   "cell_type": "code",
   "execution_count": 16,
   "metadata": {
    "collapsed": false,
    "deletable": true,
    "editable": true
   },
   "outputs": [],
   "source": [
    "def print_stats(session, feature_batch, label_batch, cost, accuracy):\n",
    "    \"\"\"\n",
    "    Print information about loss and validation accuracy\n",
    "    : session: Current TensorFlow session\n",
    "    : feature_batch: Batch of Numpy image data\n",
    "    : label_batch: Batch of Numpy label data\n",
    "    : cost: TensorFlow cost function\n",
    "    : accuracy: TensorFlow accuracy function\n",
    "    \"\"\"\n",
    "    # TODO: Implement Function\n",
    "    # Calculate batch loss and accuracy\n",
    "    loss = session.run(cost, feed_dict={\n",
    "               x: valid_features,\n",
    "               y: valid_labels,\n",
    "               keep_prob: 1})\n",
    "   \n",
    "    # As per reviewer's suggestion I am going to use the global variables valid_features and valid_labels \n",
    "    # instead of feature_batch and label_batch.\n",
    "    valid_acc = session.run(accuracy, feed_dict={\n",
    "               x: valid_features,\n",
    "               y: valid_labels,\n",
    "               keep_prob: 1})\n",
    "   \n",
    "\n",
    "    '''\n",
    "    Lesson: CNN/CNN in Tensorflow\n",
    "    print('Epoch {:>2}, Batch {:>3} -'\n",
    "                  'Loss: {:>10.4f} Validation Accuracy: {:.6f}'.format(\n",
    "                epoch + 1,\n",
    "                batch + 1,\n",
    "                loss,\n",
    "                valid_acc))\n",
    "    '''\n",
    "    print('Loss: {:>10.4f} Validation Accuracy: {:.6f}'.format(\n",
    "               loss,\n",
    "               valid_acc))\n",
    "    pass"
   ]
  },
  {
   "cell_type": "markdown",
   "metadata": {
    "deletable": true,
    "editable": true
   },
   "source": [
    "### Hyperparameters\n",
    "Tune the following parameters:\n",
    "* Set `epochs` to the number of iterations until the network stops learning or start overfitting\n",
    "* Set `batch_size` to the highest number that your machine has memory for.  Most people set them to common sizes of memory:\n",
    " * 64\n",
    " * 128\n",
    " * 256\n",
    " * ...\n",
    "* Set `keep_probability` to the probability of keeping a node using dropout"
   ]
  },
  {
   "cell_type": "code",
   "execution_count": 17,
   "metadata": {
    "collapsed": true,
    "deletable": true,
    "editable": true
   },
   "outputs": [],
   "source": [
    "# TODO: Tune Parameters\n",
    "epochs = 48 # model reached repeating accuracy at around epoch 48, so stop before over fitting\n",
    "batch_size = 1024 #1024 #64 # bigger batch size the better\n",
    "keep_probability = 0.4 #0.5"
   ]
  },
  {
   "cell_type": "markdown",
   "metadata": {
    "deletable": true,
    "editable": true
   },
   "source": [
    "### Train on a Single CIFAR-10 Batch\n",
    "Instead of training the neural network on all the CIFAR-10 batches of data, let's use a single batch. This should save time while you iterate on the model to get a better accuracy.  Once the final validation accuracy is 50% or greater, run the model on all the data in the next section."
   ]
  },
  {
   "cell_type": "code",
   "execution_count": 18,
   "metadata": {
    "collapsed": false,
    "deletable": true,
    "editable": true
   },
   "outputs": [
    {
     "name": "stdout",
     "output_type": "stream",
     "text": [
      "Checking the Training on a Single Batch...\n",
      "Epoch  1, CIFAR-10 Batch 1:  Loss:     2.1993 Validation Accuracy: 0.215600\n",
      "Epoch  2, CIFAR-10 Batch 1:  Loss:     1.9992 Validation Accuracy: 0.197200\n",
      "Epoch  3, CIFAR-10 Batch 1:  Loss:     1.8894 Validation Accuracy: 0.257200\n",
      "Epoch  4, CIFAR-10 Batch 1:  Loss:     1.7781 Validation Accuracy: 0.298800\n",
      "Epoch  5, CIFAR-10 Batch 1:  Loss:     1.6634 Validation Accuracy: 0.357000\n",
      "Epoch  6, CIFAR-10 Batch 1:  Loss:     1.5961 Validation Accuracy: 0.381800\n",
      "Epoch  7, CIFAR-10 Batch 1:  Loss:     1.5160 Validation Accuracy: 0.404200\n",
      "Epoch  8, CIFAR-10 Batch 1:  Loss:     1.4769 Validation Accuracy: 0.433200\n",
      "Epoch  9, CIFAR-10 Batch 1:  Loss:     1.3901 Validation Accuracy: 0.472400\n",
      "Epoch 10, CIFAR-10 Batch 1:  Loss:     1.3454 Validation Accuracy: 0.494600\n",
      "Epoch 11, CIFAR-10 Batch 1:  Loss:     1.2592 Validation Accuracy: 0.527800\n",
      "Epoch 12, CIFAR-10 Batch 1:  Loss:     1.2491 Validation Accuracy: 0.549600\n",
      "Epoch 13, CIFAR-10 Batch 1:  Loss:     1.2152 Validation Accuracy: 0.553200\n",
      "Epoch 14, CIFAR-10 Batch 1:  Loss:     1.1746 Validation Accuracy: 0.570400\n",
      "Epoch 15, CIFAR-10 Batch 1:  Loss:     1.1314 Validation Accuracy: 0.589200\n",
      "Epoch 16, CIFAR-10 Batch 1:  Loss:     1.1006 Validation Accuracy: 0.601400\n",
      "Epoch 17, CIFAR-10 Batch 1:  Loss:     1.1109 Validation Accuracy: 0.609200\n",
      "Epoch 18, CIFAR-10 Batch 1:  Loss:     1.1125 Validation Accuracy: 0.610200\n",
      "Epoch 19, CIFAR-10 Batch 1:  Loss:     1.0953 Validation Accuracy: 0.612600\n",
      "Epoch 20, CIFAR-10 Batch 1:  Loss:     1.0555 Validation Accuracy: 0.626000\n",
      "Epoch 21, CIFAR-10 Batch 1:  Loss:     1.0478 Validation Accuracy: 0.624400\n",
      "Epoch 22, CIFAR-10 Batch 1:  Loss:     1.0626 Validation Accuracy: 0.632200\n",
      "Epoch 23, CIFAR-10 Batch 1:  Loss:     1.1501 Validation Accuracy: 0.609200\n",
      "Epoch 24, CIFAR-10 Batch 1:  Loss:     1.0408 Validation Accuracy: 0.639400\n",
      "Epoch 25, CIFAR-10 Batch 1:  Loss:     1.0553 Validation Accuracy: 0.638200\n",
      "Epoch 26, CIFAR-10 Batch 1:  Loss:     1.0358 Validation Accuracy: 0.652600\n",
      "Epoch 27, CIFAR-10 Batch 1:  Loss:     1.0613 Validation Accuracy: 0.649400\n",
      "Epoch 28, CIFAR-10 Batch 1:  Loss:     1.0653 Validation Accuracy: 0.647000\n",
      "Epoch 29, CIFAR-10 Batch 1:  Loss:     1.0567 Validation Accuracy: 0.647200\n",
      "Epoch 30, CIFAR-10 Batch 1:  Loss:     1.0706 Validation Accuracy: 0.639400\n",
      "Epoch 31, CIFAR-10 Batch 1:  Loss:     1.0640 Validation Accuracy: 0.656400\n",
      "Epoch 32, CIFAR-10 Batch 1:  Loss:     1.0851 Validation Accuracy: 0.652400\n",
      "Epoch 33, CIFAR-10 Batch 1:  Loss:     1.0872 Validation Accuracy: 0.657600\n",
      "Epoch 34, CIFAR-10 Batch 1:  Loss:     1.0741 Validation Accuracy: 0.655600\n",
      "Epoch 35, CIFAR-10 Batch 1:  Loss:     1.0766 Validation Accuracy: 0.659200\n",
      "Epoch 36, CIFAR-10 Batch 1:  Loss:     1.1017 Validation Accuracy: 0.660800\n",
      "Epoch 37, CIFAR-10 Batch 1:  Loss:     1.1438 Validation Accuracy: 0.656600\n",
      "Epoch 38, CIFAR-10 Batch 1:  Loss:     1.1678 Validation Accuracy: 0.656800\n",
      "Epoch 39, CIFAR-10 Batch 1:  Loss:     1.1198 Validation Accuracy: 0.661200\n",
      "Epoch 40, CIFAR-10 Batch 1:  Loss:     1.1916 Validation Accuracy: 0.660000\n",
      "Epoch 41, CIFAR-10 Batch 1:  Loss:     1.1643 Validation Accuracy: 0.668400\n",
      "Epoch 42, CIFAR-10 Batch 1:  Loss:     1.1565 Validation Accuracy: 0.666600\n",
      "Epoch 43, CIFAR-10 Batch 1:  Loss:     1.2225 Validation Accuracy: 0.655200\n",
      "Epoch 44, CIFAR-10 Batch 1:  Loss:     1.1764 Validation Accuracy: 0.661400\n",
      "Epoch 45, CIFAR-10 Batch 1:  Loss:     1.2524 Validation Accuracy: 0.642400\n",
      "Epoch 46, CIFAR-10 Batch 1:  Loss:     1.2952 Validation Accuracy: 0.643200\n",
      "Epoch 47, CIFAR-10 Batch 1:  Loss:     1.2207 Validation Accuracy: 0.663000\n",
      "Epoch 48, CIFAR-10 Batch 1:  Loss:     1.2046 Validation Accuracy: 0.664200\n"
     ]
    }
   ],
   "source": [
    "\"\"\"\n",
    "DON'T MODIFY ANYTHING IN THIS CELL\n",
    "\"\"\"\n",
    "print('Checking the Training on a Single Batch...')\n",
    "with tf.Session() as sess:\n",
    "    # Initializing the variables\n",
    "    sess.run(tf.global_variables_initializer())\n",
    "    #sess.run(tf.initialize_all_variables())\n",
    "    # Training cycle\n",
    "    for epoch in range(epochs):\n",
    "        batch_i = 1\n",
    "        for batch_features, batch_labels in helper.load_preprocess_training_batch(batch_i, batch_size):\n",
    "            train_neural_network(sess, optimizer, keep_probability, batch_features, batch_labels)\n",
    "        print('Epoch {:>2}, CIFAR-10 Batch {}:  '.format(epoch + 1, batch_i), end='')\n",
    "        print_stats(sess, batch_features, batch_labels, cost, accuracy)"
   ]
  },
  {
   "cell_type": "markdown",
   "metadata": {
    "deletable": true,
    "editable": true
   },
   "source": [
    "### Fully Train the Model\n",
    "Now that you got a good accuracy with a single CIFAR-10 batch, try it with all five batches."
   ]
  },
  {
   "cell_type": "code",
   "execution_count": 19,
   "metadata": {
    "collapsed": false,
    "deletable": true,
    "editable": true
   },
   "outputs": [
    {
     "name": "stdout",
     "output_type": "stream",
     "text": [
      "Training...\n",
      "Epoch  1, CIFAR-10 Batch 1:  Loss:     2.1626 Validation Accuracy: 0.158600\n",
      "Epoch  1, CIFAR-10 Batch 2:  Loss:     1.9964 Validation Accuracy: 0.238200\n",
      "Epoch  1, CIFAR-10 Batch 3:  Loss:     1.8314 Validation Accuracy: 0.279600\n",
      "Epoch  1, CIFAR-10 Batch 4:  Loss:     1.7460 Validation Accuracy: 0.317200\n",
      "Epoch  1, CIFAR-10 Batch 5:  Loss:     1.6513 Validation Accuracy: 0.341400\n",
      "Epoch  2, CIFAR-10 Batch 1:  Loss:     1.5404 Validation Accuracy: 0.411200\n",
      "Epoch  2, CIFAR-10 Batch 2:  Loss:     1.4975 Validation Accuracy: 0.429600\n",
      "Epoch  2, CIFAR-10 Batch 3:  Loss:     1.4652 Validation Accuracy: 0.438800\n",
      "Epoch  2, CIFAR-10 Batch 4:  Loss:     1.3976 Validation Accuracy: 0.472000\n",
      "Epoch  2, CIFAR-10 Batch 5:  Loss:     1.3672 Validation Accuracy: 0.489000\n",
      "Epoch  3, CIFAR-10 Batch 1:  Loss:     1.3067 Validation Accuracy: 0.515400\n",
      "Epoch  3, CIFAR-10 Batch 2:  Loss:     1.2768 Validation Accuracy: 0.517200\n",
      "Epoch  3, CIFAR-10 Batch 3:  Loss:     1.2547 Validation Accuracy: 0.534600\n",
      "Epoch  3, CIFAR-10 Batch 4:  Loss:     1.2237 Validation Accuracy: 0.556600\n",
      "Epoch  3, CIFAR-10 Batch 5:  Loss:     1.1598 Validation Accuracy: 0.575600\n",
      "Epoch  4, CIFAR-10 Batch 1:  Loss:     1.1393 Validation Accuracy: 0.593400\n",
      "Epoch  4, CIFAR-10 Batch 2:  Loss:     1.1227 Validation Accuracy: 0.589200\n",
      "Epoch  4, CIFAR-10 Batch 3:  Loss:     1.1196 Validation Accuracy: 0.587600\n",
      "Epoch  4, CIFAR-10 Batch 4:  Loss:     1.0782 Validation Accuracy: 0.608200\n",
      "Epoch  4, CIFAR-10 Batch 5:  Loss:     1.0799 Validation Accuracy: 0.615200\n",
      "Epoch  5, CIFAR-10 Batch 1:  Loss:     1.0369 Validation Accuracy: 0.628200\n",
      "Epoch  5, CIFAR-10 Batch 2:  Loss:     1.0212 Validation Accuracy: 0.632800\n",
      "Epoch  5, CIFAR-10 Batch 3:  Loss:     1.0173 Validation Accuracy: 0.635400\n",
      "Epoch  5, CIFAR-10 Batch 4:  Loss:     0.9911 Validation Accuracy: 0.645600\n",
      "Epoch  5, CIFAR-10 Batch 5:  Loss:     0.9838 Validation Accuracy: 0.642600\n",
      "Epoch  6, CIFAR-10 Batch 1:  Loss:     0.9844 Validation Accuracy: 0.650600\n",
      "Epoch  6, CIFAR-10 Batch 2:  Loss:     0.9434 Validation Accuracy: 0.664200\n",
      "Epoch  6, CIFAR-10 Batch 3:  Loss:     0.9365 Validation Accuracy: 0.660000\n",
      "Epoch  6, CIFAR-10 Batch 4:  Loss:     0.9260 Validation Accuracy: 0.662200\n",
      "Epoch  6, CIFAR-10 Batch 5:  Loss:     0.9055 Validation Accuracy: 0.671800\n",
      "Epoch  7, CIFAR-10 Batch 1:  Loss:     0.9155 Validation Accuracy: 0.677400\n",
      "Epoch  7, CIFAR-10 Batch 2:  Loss:     0.8791 Validation Accuracy: 0.685000\n",
      "Epoch  7, CIFAR-10 Batch 3:  Loss:     0.8976 Validation Accuracy: 0.679000\n",
      "Epoch  7, CIFAR-10 Batch 4:  Loss:     0.8717 Validation Accuracy: 0.689400\n",
      "Epoch  7, CIFAR-10 Batch 5:  Loss:     0.8657 Validation Accuracy: 0.689000\n",
      "Epoch  8, CIFAR-10 Batch 1:  Loss:     0.8732 Validation Accuracy: 0.689400\n",
      "Epoch  8, CIFAR-10 Batch 2:  Loss:     0.8432 Validation Accuracy: 0.702200\n",
      "Epoch  8, CIFAR-10 Batch 3:  Loss:     0.8371 Validation Accuracy: 0.697800\n",
      "Epoch  8, CIFAR-10 Batch 4:  Loss:     0.8502 Validation Accuracy: 0.696000\n",
      "Epoch  8, CIFAR-10 Batch 5:  Loss:     0.8303 Validation Accuracy: 0.701800\n",
      "Epoch  9, CIFAR-10 Batch 1:  Loss:     0.8106 Validation Accuracy: 0.711200\n",
      "Epoch  9, CIFAR-10 Batch 2:  Loss:     0.8259 Validation Accuracy: 0.707600\n",
      "Epoch  9, CIFAR-10 Batch 3:  Loss:     0.8367 Validation Accuracy: 0.705000\n",
      "Epoch  9, CIFAR-10 Batch 4:  Loss:     0.8077 Validation Accuracy: 0.707600\n",
      "Epoch  9, CIFAR-10 Batch 5:  Loss:     0.8023 Validation Accuracy: 0.711400\n",
      "Epoch 10, CIFAR-10 Batch 1:  Loss:     0.8138 Validation Accuracy: 0.716600\n",
      "Epoch 10, CIFAR-10 Batch 2:  Loss:     0.7971 Validation Accuracy: 0.720000\n",
      "Epoch 10, CIFAR-10 Batch 3:  Loss:     0.8487 Validation Accuracy: 0.701800\n",
      "Epoch 10, CIFAR-10 Batch 4:  Loss:     0.7909 Validation Accuracy: 0.722800\n",
      "Epoch 10, CIFAR-10 Batch 5:  Loss:     0.8097 Validation Accuracy: 0.709800\n",
      "Epoch 11, CIFAR-10 Batch 1:  Loss:     0.8139 Validation Accuracy: 0.713000\n",
      "Epoch 11, CIFAR-10 Batch 2:  Loss:     0.7632 Validation Accuracy: 0.734600\n",
      "Epoch 11, CIFAR-10 Batch 3:  Loss:     0.8057 Validation Accuracy: 0.721800\n",
      "Epoch 11, CIFAR-10 Batch 4:  Loss:     0.7813 Validation Accuracy: 0.726000\n",
      "Epoch 11, CIFAR-10 Batch 5:  Loss:     0.7985 Validation Accuracy: 0.713800\n",
      "Epoch 12, CIFAR-10 Batch 1:  Loss:     0.7683 Validation Accuracy: 0.736200\n",
      "Epoch 12, CIFAR-10 Batch 2:  Loss:     0.7604 Validation Accuracy: 0.735000\n",
      "Epoch 12, CIFAR-10 Batch 3:  Loss:     0.7589 Validation Accuracy: 0.735600\n",
      "Epoch 12, CIFAR-10 Batch 4:  Loss:     0.7519 Validation Accuracy: 0.742400\n",
      "Epoch 12, CIFAR-10 Batch 5:  Loss:     0.7467 Validation Accuracy: 0.740600\n",
      "Epoch 13, CIFAR-10 Batch 1:  Loss:     0.7345 Validation Accuracy: 0.745000\n",
      "Epoch 13, CIFAR-10 Batch 2:  Loss:     0.7248 Validation Accuracy: 0.750200\n",
      "Epoch 13, CIFAR-10 Batch 3:  Loss:     0.7583 Validation Accuracy: 0.743400\n",
      "Epoch 13, CIFAR-10 Batch 4:  Loss:     0.7349 Validation Accuracy: 0.746200\n",
      "Epoch 13, CIFAR-10 Batch 5:  Loss:     0.7157 Validation Accuracy: 0.752400\n",
      "Epoch 14, CIFAR-10 Batch 1:  Loss:     0.7095 Validation Accuracy: 0.753800\n",
      "Epoch 14, CIFAR-10 Batch 2:  Loss:     0.7379 Validation Accuracy: 0.749400\n",
      "Epoch 14, CIFAR-10 Batch 3:  Loss:     0.7312 Validation Accuracy: 0.747400\n",
      "Epoch 14, CIFAR-10 Batch 4:  Loss:     0.7294 Validation Accuracy: 0.749200\n",
      "Epoch 14, CIFAR-10 Batch 5:  Loss:     0.7249 Validation Accuracy: 0.751000\n",
      "Epoch 15, CIFAR-10 Batch 1:  Loss:     0.7336 Validation Accuracy: 0.745400\n",
      "Epoch 15, CIFAR-10 Batch 2:  Loss:     0.7170 Validation Accuracy: 0.755600\n",
      "Epoch 15, CIFAR-10 Batch 3:  Loss:     0.6998 Validation Accuracy: 0.760200\n",
      "Epoch 15, CIFAR-10 Batch 4:  Loss:     0.7415 Validation Accuracy: 0.744400\n",
      "Epoch 15, CIFAR-10 Batch 5:  Loss:     0.7032 Validation Accuracy: 0.755400\n",
      "Epoch 16, CIFAR-10 Batch 1:  Loss:     0.7022 Validation Accuracy: 0.762600\n",
      "Epoch 16, CIFAR-10 Batch 2:  Loss:     0.6925 Validation Accuracy: 0.759600\n",
      "Epoch 16, CIFAR-10 Batch 3:  Loss:     0.7044 Validation Accuracy: 0.759800\n",
      "Epoch 16, CIFAR-10 Batch 4:  Loss:     0.7098 Validation Accuracy: 0.757400\n",
      "Epoch 16, CIFAR-10 Batch 5:  Loss:     0.6930 Validation Accuracy: 0.759400\n",
      "Epoch 17, CIFAR-10 Batch 1:  Loss:     0.6980 Validation Accuracy: 0.764400\n",
      "Epoch 17, CIFAR-10 Batch 2:  Loss:     0.7120 Validation Accuracy: 0.759600\n",
      "Epoch 17, CIFAR-10 Batch 3:  Loss:     0.6990 Validation Accuracy: 0.756000\n",
      "Epoch 17, CIFAR-10 Batch 4:  Loss:     0.6915 Validation Accuracy: 0.764000\n",
      "Epoch 17, CIFAR-10 Batch 5:  Loss:     0.6837 Validation Accuracy: 0.769600\n",
      "Epoch 18, CIFAR-10 Batch 1:  Loss:     0.7206 Validation Accuracy: 0.754600\n",
      "Epoch 18, CIFAR-10 Batch 2:  Loss:     0.7139 Validation Accuracy: 0.758000\n",
      "Epoch 18, CIFAR-10 Batch 3:  Loss:     0.6775 Validation Accuracy: 0.773600\n",
      "Epoch 18, CIFAR-10 Batch 4:  Loss:     0.6746 Validation Accuracy: 0.766400\n",
      "Epoch 18, CIFAR-10 Batch 5:  Loss:     0.6904 Validation Accuracy: 0.765800\n",
      "Epoch 19, CIFAR-10 Batch 1:  Loss:     0.6907 Validation Accuracy: 0.767400\n",
      "Epoch 19, CIFAR-10 Batch 2:  Loss:     0.6810 Validation Accuracy: 0.768600\n",
      "Epoch 19, CIFAR-10 Batch 3:  Loss:     0.6830 Validation Accuracy: 0.769800\n",
      "Epoch 19, CIFAR-10 Batch 4:  Loss:     0.6708 Validation Accuracy: 0.767600\n",
      "Epoch 19, CIFAR-10 Batch 5:  Loss:     0.6805 Validation Accuracy: 0.762000\n",
      "Epoch 20, CIFAR-10 Batch 1:  Loss:     0.6676 Validation Accuracy: 0.778600\n",
      "Epoch 20, CIFAR-10 Batch 2:  Loss:     0.6676 Validation Accuracy: 0.775400\n",
      "Epoch 20, CIFAR-10 Batch 3:  Loss:     0.6880 Validation Accuracy: 0.769200\n",
      "Epoch 20, CIFAR-10 Batch 4:  Loss:     0.6728 Validation Accuracy: 0.772400\n",
      "Epoch 20, CIFAR-10 Batch 5:  Loss:     0.6898 Validation Accuracy: 0.765400\n",
      "Epoch 21, CIFAR-10 Batch 1:  Loss:     0.6678 Validation Accuracy: 0.774200\n",
      "Epoch 21, CIFAR-10 Batch 2:  Loss:     0.6890 Validation Accuracy: 0.765200\n",
      "Epoch 21, CIFAR-10 Batch 3:  Loss:     0.6935 Validation Accuracy: 0.768400\n",
      "Epoch 21, CIFAR-10 Batch 4:  Loss:     0.6879 Validation Accuracy: 0.768400\n",
      "Epoch 21, CIFAR-10 Batch 5:  Loss:     0.6812 Validation Accuracy: 0.769800\n",
      "Epoch 22, CIFAR-10 Batch 1:  Loss:     0.6778 Validation Accuracy: 0.777400\n",
      "Epoch 22, CIFAR-10 Batch 2:  Loss:     0.6755 Validation Accuracy: 0.774600\n",
      "Epoch 22, CIFAR-10 Batch 3:  Loss:     0.7090 Validation Accuracy: 0.767200\n",
      "Epoch 22, CIFAR-10 Batch 4:  Loss:     0.6645 Validation Accuracy: 0.773200\n",
      "Epoch 22, CIFAR-10 Batch 5:  Loss:     0.6958 Validation Accuracy: 0.768400\n",
      "Epoch 23, CIFAR-10 Batch 1:  Loss:     0.6957 Validation Accuracy: 0.774400\n",
      "Epoch 23, CIFAR-10 Batch 2:  Loss:     0.7075 Validation Accuracy: 0.767600\n",
      "Epoch 23, CIFAR-10 Batch 3:  Loss:     0.6963 Validation Accuracy: 0.775800\n",
      "Epoch 23, CIFAR-10 Batch 4:  Loss:     0.6663 Validation Accuracy: 0.781000\n",
      "Epoch 23, CIFAR-10 Batch 5:  Loss:     0.6634 Validation Accuracy: 0.775400\n",
      "Epoch 24, CIFAR-10 Batch 1:  Loss:     0.6978 Validation Accuracy: 0.769600\n",
      "Epoch 24, CIFAR-10 Batch 2:  Loss:     0.7169 Validation Accuracy: 0.768400\n",
      "Epoch 24, CIFAR-10 Batch 3:  Loss:     0.6612 Validation Accuracy: 0.777800\n",
      "Epoch 24, CIFAR-10 Batch 4:  Loss:     0.6684 Validation Accuracy: 0.779200\n",
      "Epoch 24, CIFAR-10 Batch 5:  Loss:     0.6900 Validation Accuracy: 0.768600\n",
      "Epoch 25, CIFAR-10 Batch 1:  Loss:     0.6943 Validation Accuracy: 0.775000\n",
      "Epoch 25, CIFAR-10 Batch 2:  Loss:     0.6872 Validation Accuracy: 0.775000\n",
      "Epoch 25, CIFAR-10 Batch 3:  Loss:     0.6628 Validation Accuracy: 0.778800\n",
      "Epoch 25, CIFAR-10 Batch 4:  Loss:     0.6880 Validation Accuracy: 0.775600\n",
      "Epoch 25, CIFAR-10 Batch 5:  Loss:     0.6762 Validation Accuracy: 0.776200\n",
      "Epoch 26, CIFAR-10 Batch 1:  Loss:     0.6744 Validation Accuracy: 0.778600\n",
      "Epoch 26, CIFAR-10 Batch 2:  Loss:     0.6669 Validation Accuracy: 0.779800\n",
      "Epoch 26, CIFAR-10 Batch 3:  Loss:     0.7073 Validation Accuracy: 0.774000\n",
      "Epoch 26, CIFAR-10 Batch 4:  Loss:     0.6917 Validation Accuracy: 0.769600\n",
      "Epoch 26, CIFAR-10 Batch 5:  Loss:     0.6986 Validation Accuracy: 0.772000\n",
      "Epoch 27, CIFAR-10 Batch 1:  Loss:     0.6743 Validation Accuracy: 0.776200\n",
      "Epoch 27, CIFAR-10 Batch 2:  Loss:     0.6557 Validation Accuracy: 0.785800\n",
      "Epoch 27, CIFAR-10 Batch 3:  Loss:     0.7088 Validation Accuracy: 0.771200\n",
      "Epoch 27, CIFAR-10 Batch 4:  Loss:     0.6903 Validation Accuracy: 0.777400\n",
      "Epoch 27, CIFAR-10 Batch 5:  Loss:     0.7012 Validation Accuracy: 0.767800\n",
      "Epoch 28, CIFAR-10 Batch 1:  Loss:     0.7018 Validation Accuracy: 0.775400\n",
      "Epoch 28, CIFAR-10 Batch 2:  Loss:     0.6752 Validation Accuracy: 0.785400\n",
      "Epoch 28, CIFAR-10 Batch 3:  Loss:     0.6961 Validation Accuracy: 0.773800\n",
      "Epoch 28, CIFAR-10 Batch 4:  Loss:     0.6771 Validation Accuracy: 0.784800\n",
      "Epoch 28, CIFAR-10 Batch 5:  Loss:     0.7135 Validation Accuracy: 0.775200\n",
      "Epoch 29, CIFAR-10 Batch 1:  Loss:     0.6777 Validation Accuracy: 0.783400\n",
      "Epoch 29, CIFAR-10 Batch 2:  Loss:     0.6420 Validation Accuracy: 0.790800\n",
      "Epoch 29, CIFAR-10 Batch 3:  Loss:     0.6843 Validation Accuracy: 0.779200\n",
      "Epoch 29, CIFAR-10 Batch 4:  Loss:     0.7170 Validation Accuracy: 0.771600\n",
      "Epoch 29, CIFAR-10 Batch 5:  Loss:     0.6892 Validation Accuracy: 0.777600\n",
      "Epoch 30, CIFAR-10 Batch 1:  Loss:     0.7202 Validation Accuracy: 0.775000\n",
      "Epoch 30, CIFAR-10 Batch 2:  Loss:     0.6907 Validation Accuracy: 0.782000\n",
      "Epoch 30, CIFAR-10 Batch 3:  Loss:     0.6689 Validation Accuracy: 0.785600\n",
      "Epoch 30, CIFAR-10 Batch 4:  Loss:     0.6805 Validation Accuracy: 0.781400\n",
      "Epoch 30, CIFAR-10 Batch 5:  Loss:     0.6762 Validation Accuracy: 0.780200\n",
      "Epoch 31, CIFAR-10 Batch 1:  Loss:     0.6922 Validation Accuracy: 0.779800\n",
      "Epoch 31, CIFAR-10 Batch 2:  Loss:     0.6672 Validation Accuracy: 0.784800\n",
      "Epoch 31, CIFAR-10 Batch 3:  Loss:     0.6805 Validation Accuracy: 0.782400\n",
      "Epoch 31, CIFAR-10 Batch 4:  Loss:     0.6808 Validation Accuracy: 0.784400\n",
      "Epoch 31, CIFAR-10 Batch 5:  Loss:     0.6754 Validation Accuracy: 0.777400\n",
      "Epoch 32, CIFAR-10 Batch 1:  Loss:     0.6810 Validation Accuracy: 0.784800\n",
      "Epoch 32, CIFAR-10 Batch 2:  Loss:     0.6719 Validation Accuracy: 0.780600\n",
      "Epoch 32, CIFAR-10 Batch 3:  Loss:     0.6758 Validation Accuracy: 0.782200\n",
      "Epoch 32, CIFAR-10 Batch 4:  Loss:     0.6861 Validation Accuracy: 0.784400\n",
      "Epoch 32, CIFAR-10 Batch 5:  Loss:     0.6614 Validation Accuracy: 0.790600\n",
      "Epoch 33, CIFAR-10 Batch 1:  Loss:     0.7002 Validation Accuracy: 0.782600\n",
      "Epoch 33, CIFAR-10 Batch 2:  Loss:     0.6670 Validation Accuracy: 0.791800\n",
      "Epoch 33, CIFAR-10 Batch 3:  Loss:     0.6718 Validation Accuracy: 0.791800\n",
      "Epoch 33, CIFAR-10 Batch 4:  Loss:     0.7199 Validation Accuracy: 0.780400\n",
      "Epoch 33, CIFAR-10 Batch 5:  Loss:     0.6885 Validation Accuracy: 0.788000\n",
      "Epoch 34, CIFAR-10 Batch 1:  Loss:     0.7071 Validation Accuracy: 0.781000\n",
      "Epoch 34, CIFAR-10 Batch 2:  Loss:     0.7013 Validation Accuracy: 0.781000\n",
      "Epoch 34, CIFAR-10 Batch 3:  Loss:     0.6543 Validation Accuracy: 0.792200\n",
      "Epoch 34, CIFAR-10 Batch 4:  Loss:     0.6817 Validation Accuracy: 0.785400\n",
      "Epoch 34, CIFAR-10 Batch 5:  Loss:     0.6972 Validation Accuracy: 0.779400\n",
      "Epoch 35, CIFAR-10 Batch 1:  Loss:     0.7061 Validation Accuracy: 0.786000\n",
      "Epoch 35, CIFAR-10 Batch 2:  Loss:     0.7182 Validation Accuracy: 0.777800\n",
      "Epoch 35, CIFAR-10 Batch 3:  Loss:     0.6616 Validation Accuracy: 0.792400\n",
      "Epoch 35, CIFAR-10 Batch 4:  Loss:     0.6826 Validation Accuracy: 0.784200\n",
      "Epoch 35, CIFAR-10 Batch 5:  Loss:     0.7218 Validation Accuracy: 0.775600\n",
      "Epoch 36, CIFAR-10 Batch 1:  Loss:     0.7097 Validation Accuracy: 0.787200\n",
      "Epoch 36, CIFAR-10 Batch 2:  Loss:     0.6886 Validation Accuracy: 0.788200\n",
      "Epoch 36, CIFAR-10 Batch 3:  Loss:     0.6781 Validation Accuracy: 0.786600\n",
      "Epoch 36, CIFAR-10 Batch 4:  Loss:     0.6825 Validation Accuracy: 0.787400\n",
      "Epoch 36, CIFAR-10 Batch 5:  Loss:     0.6971 Validation Accuracy: 0.783200\n",
      "Epoch 37, CIFAR-10 Batch 1:  Loss:     0.7027 Validation Accuracy: 0.790400\n",
      "Epoch 37, CIFAR-10 Batch 2:  Loss:     0.7027 Validation Accuracy: 0.786400\n",
      "Epoch 37, CIFAR-10 Batch 3:  Loss:     0.6847 Validation Accuracy: 0.789400\n",
      "Epoch 37, CIFAR-10 Batch 4:  Loss:     0.7010 Validation Accuracy: 0.782000\n",
      "Epoch 37, CIFAR-10 Batch 5:  Loss:     0.7256 Validation Accuracy: 0.773200\n",
      "Epoch 38, CIFAR-10 Batch 1:  Loss:     0.6994 Validation Accuracy: 0.790600\n",
      "Epoch 38, CIFAR-10 Batch 2:  Loss:     0.6990 Validation Accuracy: 0.785800\n",
      "Epoch 38, CIFAR-10 Batch 3:  Loss:     0.6803 Validation Accuracy: 0.788400\n",
      "Epoch 38, CIFAR-10 Batch 4:  Loss:     0.7278 Validation Accuracy: 0.776400\n",
      "Epoch 38, CIFAR-10 Batch 5:  Loss:     0.6658 Validation Accuracy: 0.793000\n",
      "Epoch 39, CIFAR-10 Batch 1:  Loss:     0.6924 Validation Accuracy: 0.790200\n",
      "Epoch 39, CIFAR-10 Batch 2:  Loss:     0.7083 Validation Accuracy: 0.784800\n",
      "Epoch 39, CIFAR-10 Batch 3:  Loss:     0.6869 Validation Accuracy: 0.788200\n",
      "Epoch 39, CIFAR-10 Batch 4:  Loss:     0.6788 Validation Accuracy: 0.790000\n",
      "Epoch 39, CIFAR-10 Batch 5:  Loss:     0.6873 Validation Accuracy: 0.788600\n",
      "Epoch 40, CIFAR-10 Batch 1:  Loss:     0.7221 Validation Accuracy: 0.787200\n",
      "Epoch 40, CIFAR-10 Batch 2:  Loss:     0.7204 Validation Accuracy: 0.783000\n",
      "Epoch 40, CIFAR-10 Batch 3:  Loss:     0.7179 Validation Accuracy: 0.784600\n",
      "Epoch 40, CIFAR-10 Batch 4:  Loss:     0.6915 Validation Accuracy: 0.791000\n",
      "Epoch 40, CIFAR-10 Batch 5:  Loss:     0.7204 Validation Accuracy: 0.784600\n",
      "Epoch 41, CIFAR-10 Batch 1:  Loss:     0.7295 Validation Accuracy: 0.789600\n",
      "Epoch 41, CIFAR-10 Batch 2:  Loss:     0.6880 Validation Accuracy: 0.791400\n",
      "Epoch 41, CIFAR-10 Batch 3:  Loss:     0.6928 Validation Accuracy: 0.791400\n",
      "Epoch 41, CIFAR-10 Batch 4:  Loss:     0.6914 Validation Accuracy: 0.790800\n",
      "Epoch 41, CIFAR-10 Batch 5:  Loss:     0.7067 Validation Accuracy: 0.781000\n",
      "Epoch 42, CIFAR-10 Batch 1:  Loss:     0.6998 Validation Accuracy: 0.793000\n",
      "Epoch 42, CIFAR-10 Batch 2:  Loss:     0.7539 Validation Accuracy: 0.776000\n",
      "Epoch 42, CIFAR-10 Batch 3:  Loss:     0.6672 Validation Accuracy: 0.798200\n",
      "Epoch 42, CIFAR-10 Batch 4:  Loss:     0.7119 Validation Accuracy: 0.789400\n",
      "Epoch 42, CIFAR-10 Batch 5:  Loss:     0.6982 Validation Accuracy: 0.790000\n",
      "Epoch 43, CIFAR-10 Batch 1:  Loss:     0.7110 Validation Accuracy: 0.794000\n",
      "Epoch 43, CIFAR-10 Batch 2:  Loss:     0.7030 Validation Accuracy: 0.793800\n",
      "Epoch 43, CIFAR-10 Batch 3:  Loss:     0.6765 Validation Accuracy: 0.795800\n",
      "Epoch 43, CIFAR-10 Batch 4:  Loss:     0.6754 Validation Accuracy: 0.801600\n",
      "Epoch 43, CIFAR-10 Batch 5:  Loss:     0.6843 Validation Accuracy: 0.794200\n",
      "Epoch 44, CIFAR-10 Batch 1:  Loss:     0.6983 Validation Accuracy: 0.800800\n",
      "Epoch 44, CIFAR-10 Batch 2:  Loss:     0.7097 Validation Accuracy: 0.792400\n",
      "Epoch 44, CIFAR-10 Batch 3:  Loss:     0.6705 Validation Accuracy: 0.797800\n",
      "Epoch 44, CIFAR-10 Batch 4:  Loss:     0.6784 Validation Accuracy: 0.800200\n",
      "Epoch 44, CIFAR-10 Batch 5:  Loss:     0.6997 Validation Accuracy: 0.790800\n",
      "Epoch 45, CIFAR-10 Batch 1:  Loss:     0.7248 Validation Accuracy: 0.797000\n",
      "Epoch 45, CIFAR-10 Batch 2:  Loss:     0.7077 Validation Accuracy: 0.795600\n",
      "Epoch 45, CIFAR-10 Batch 3:  Loss:     0.6840 Validation Accuracy: 0.798200\n",
      "Epoch 45, CIFAR-10 Batch 4:  Loss:     0.7198 Validation Accuracy: 0.792600\n",
      "Epoch 45, CIFAR-10 Batch 5:  Loss:     0.6831 Validation Accuracy: 0.796400\n",
      "Epoch 46, CIFAR-10 Batch 1:  Loss:     0.7011 Validation Accuracy: 0.802400\n",
      "Epoch 46, CIFAR-10 Batch 2:  Loss:     0.7163 Validation Accuracy: 0.794000\n",
      "Epoch 46, CIFAR-10 Batch 3:  Loss:     0.7290 Validation Accuracy: 0.793000\n",
      "Epoch 46, CIFAR-10 Batch 4:  Loss:     0.6982 Validation Accuracy: 0.799600\n",
      "Epoch 46, CIFAR-10 Batch 5:  Loss:     0.7663 Validation Accuracy: 0.778600\n",
      "Epoch 47, CIFAR-10 Batch 1:  Loss:     0.7125 Validation Accuracy: 0.798600\n",
      "Epoch 47, CIFAR-10 Batch 2:  Loss:     0.7219 Validation Accuracy: 0.796000\n",
      "Epoch 47, CIFAR-10 Batch 3:  Loss:     0.7367 Validation Accuracy: 0.794000\n",
      "Epoch 47, CIFAR-10 Batch 4:  Loss:     0.7137 Validation Accuracy: 0.793200\n",
      "Epoch 47, CIFAR-10 Batch 5:  Loss:     0.7557 Validation Accuracy: 0.782200\n",
      "Epoch 48, CIFAR-10 Batch 1:  Loss:     0.7584 Validation Accuracy: 0.795200\n",
      "Epoch 48, CIFAR-10 Batch 2:  Loss:     0.7684 Validation Accuracy: 0.789200\n",
      "Epoch 48, CIFAR-10 Batch 3:  Loss:     0.7117 Validation Accuracy: 0.799600\n",
      "Epoch 48, CIFAR-10 Batch 4:  Loss:     0.7251 Validation Accuracy: 0.789600\n",
      "Epoch 48, CIFAR-10 Batch 5:  Loss:     0.7562 Validation Accuracy: 0.784600\n"
     ]
    }
   ],
   "source": [
    "\"\"\"\n",
    "DON'T MODIFY ANYTHING IN THIS CELL\n",
    "\"\"\"\n",
    "save_model_path = './image_classification'\n",
    "\n",
    "print('Training...')\n",
    "\n",
    "with tf.Session() as sess:\n",
    "    # Initializing the variables\n",
    "    sess.run(tf.global_variables_initializer())\n",
    "    #sess.run(tf.initialize_all_variables())\n",
    "    \n",
    "    # Training cycle\n",
    "    for epoch in range(epochs):\n",
    "        # Loop over all batches\n",
    "        n_batches = 5\n",
    "        for batch_i in range(1, n_batches + 1):\n",
    "            for batch_features, batch_labels in helper.load_preprocess_training_batch(batch_i, batch_size):\n",
    "                train_neural_network(sess, optimizer, keep_probability, batch_features, batch_labels)\n",
    "            print('Epoch {:>2}, CIFAR-10 Batch {}:  '.format(epoch + 1, batch_i), end='')\n",
    "            print_stats(sess, batch_features, batch_labels, cost, accuracy)\n",
    "            \n",
    "    # Save Model\n",
    "    saver = tf.train.Saver()\n",
    "    save_path = saver.save(sess, save_model_path)"
   ]
  },
  {
   "cell_type": "markdown",
   "metadata": {
    "deletable": true,
    "editable": true
   },
   "source": [
    "# Checkpoint\n",
    "The model has been saved to disk.\n",
    "## Test Model\n",
    "Test your model against the test dataset.  This will be your final accuracy. You should have an accuracy greater than 50%. If you don't, keep tweaking the model architecture and parameters."
   ]
  },
  {
   "cell_type": "code",
   "execution_count": 20,
   "metadata": {
    "collapsed": false,
    "deletable": true,
    "editable": true
   },
   "outputs": [
    {
     "name": "stdout",
     "output_type": "stream",
     "text": [
      "Testing Accuracy: 0.773622852563858\n",
      "\n"
     ]
    },
    {
     "name": "stderr",
     "output_type": "stream",
     "text": [
      "/home/carnd/anaconda3/envs/dl/lib/python3.5/site-packages/matplotlib/font_manager.py:1297: UserWarning: findfont: Font family ['sans-serif'] not found. Falling back to DejaVu Sans\n",
      "  (prop.get_family(), self.defaultFamily[fontext]))\n"
     ]
    },
    {
     "data": {
      "image/png": "[encoded data removed]",
      "text/plain": [
       "<matplotlib.figure.Figure at 0x7fb4906b8e10>"
      ]
     },
     "metadata": {
      "image/png": {
       "height": 319,
       "width": 355
      }
     },
     "output_type": "display_data"
    }
   ],
   "source": [
    "\"\"\"\n",
    "DON'T MODIFY ANYTHING IN THIS CELL\n",
    "\"\"\"\n",
    "%matplotlib inline\n",
    "%config InlineBackend.figure_format = 'retina'\n",
    "\n",
    "import tensorflow as tf\n",
    "import pickle\n",
    "import helper\n",
    "import random\n",
    "\n",
    "# Set batch size if not already set\n",
    "try:\n",
    "    if batch_size:\n",
    "        pass\n",
    "except NameError:\n",
    "    batch_size = 64\n",
    "\n",
    "save_model_path = './image_classification'\n",
    "n_samples = 4\n",
    "top_n_predictions = 3\n",
    "\n",
    "def test_model():\n",
    "    \"\"\"\n",
    "    Test the saved model against the test dataset\n",
    "    \"\"\"\n",
    "\n",
    "    test_features, test_labels = pickle.load(open('preprocess_training.p', mode='rb'))\n",
    "    loaded_graph = tf.Graph()\n",
    "\n",
    "    with tf.Session(graph=loaded_graph) as sess:\n",
    "        # Load model\n",
    "        loader = tf.train.import_meta_graph(save_model_path + '.meta')\n",
    "        loader.restore(sess, save_model_path)\n",
    "\n",
    "        # Get Tensors from loaded model\n",
    "        loaded_x = loaded_graph.get_tensor_by_name('x:0')\n",
    "        loaded_y = loaded_graph.get_tensor_by_name('y:0')\n",
    "        loaded_keep_prob = loaded_graph.get_tensor_by_name('keep_prob:0')\n",
    "        loaded_logits = loaded_graph.get_tensor_by_name('logits:0')\n",
    "        loaded_acc = loaded_graph.get_tensor_by_name('accuracy:0')\n",
    "        \n",
    "        # Get accuracy in batches for memory limitations\n",
    "        test_batch_acc_total = 0\n",
    "        test_batch_count = 0\n",
    "        \n",
    "        for train_feature_batch, train_label_batch in helper.batch_features_labels(test_features, test_labels, batch_size):\n",
    "            test_batch_acc_total += sess.run(\n",
    "                loaded_acc,\n",
    "                feed_dict={loaded_x: train_feature_batch, loaded_y: train_label_batch, loaded_keep_prob: 1.0})\n",
    "            test_batch_count += 1\n",
    "\n",
    "        print('Testing Accuracy: {}\\n'.format(test_batch_acc_total/test_batch_count))\n",
    "\n",
    "        # Print Random Samples\n",
    "        random_test_features, random_test_labels = tuple(zip(*random.sample(list(zip(test_features, test_labels)), n_samples)))\n",
    "        random_test_predictions = sess.run(\n",
    "            tf.nn.top_k(tf.nn.softmax(loaded_logits), top_n_predictions),\n",
    "            feed_dict={loaded_x: random_test_features, loaded_y: random_test_labels, loaded_keep_prob: 1.0})\n",
    "        helper.display_image_predictions(random_test_features, random_test_labels, random_test_predictions)\n",
    "\n",
    "\n",
    "test_model()"
   ]
  },
  {
   "cell_type": "markdown",
   "metadata": {
    "deletable": true,
    "editable": true
   },
   "source": [
    "## Why 50-70% Accuracy?\n",
    "You might be wondering why you can't get an accuracy any higher. First things first, 50% isn't bad for a simple CNN.  Pure guessing would get you 10% accuracy. However, you might notice people are getting scores [well above 70%](http://rodrigob.github.io/are_we_there_yet/build/classification_datasets_results.html#43494641522d3130).  That's because we haven't taught you all there is to know about neural networks. We still need to cover a few more techniques.\n",
    "## Submitting This Project\n",
    "When submitting this project, make sure to run all the cells before saving the notebook.  Save the notebook file as \"dlnd_image_classification.ipynb\" and save it as a HTML file under \"File\" -> \"Download as\".  Include the \"helper.py\" and \"problem_unittests.py\" files in your submission."
   ]
  },
  {
   "cell_type": "code",
   "execution_count": null,
   "metadata": {
    "collapsed": true,
    "deletable": true,
    "editable": true
   },
   "outputs": [],
   "source": []
  }
 ],
 "metadata": {
  "anaconda-cloud": {},
  "kernelspec": {
   "display_name": "Python 3",
   "language": "python",
   "name": "python3"
  },
  "language_info": {
   "codemirror_mode": {
    "name": "ipython",
    "version": 3
   },
   "file_extension": ".py",
   "mimetype": "text/x-python",
   "name": "python",
   "nbconvert_exporter": "python",
   "pygments_lexer": "ipython3",
   "version": "3.5.2"
  },
  "widgets": {
   "state": {},
   "version": "1.1.2"
  }
 },
 "nbformat": 4,
 "nbformat_minor": 0
}
